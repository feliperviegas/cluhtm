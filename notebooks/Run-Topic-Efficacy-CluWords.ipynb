{
 "cells": [
  {
   "cell_type": "code",
   "execution_count": 1,
   "metadata": {},
   "outputs": [],
   "source": [
    "source = \"../fasttext_wiki_ft\""
   ]
  },
  {
   "cell_type": "code",
   "execution_count": 2,
   "metadata": {},
   "outputs": [],
   "source": [
    "dataset = \"wpp\""
   ]
  },
  {
   "cell_type": "code",
   "execution_count": 3,
   "metadata": {},
   "outputs": [
    {
     "name": "stderr",
     "output_type": "stream",
     "text": [
      "/home/felipeviegas/Codes/occ-notebook-analysis/BERT-zero-shot/bert_env/lib/python3.7/site-packages/sklearn/utils/deprecation.py:87: FutureWarning: Function get_feature_names is deprecated; get_feature_names is deprecated in 1.0 and will be removed in 1.2. Please use get_feature_names_out instead.\n",
      "  warnings.warn(msg, category=FutureWarning)\n"
     ]
    },
    {
     "name": "stdout",
     "output_type": "stream",
     "text": [
      "NPMI\n",
      "Depth_0 0.9087494025091805 0.026559606597810547\n",
      "Depth_1 0.8536815212938131 0.04294360103073632\n",
      "Overall 0.8586876923133921 0.04455144309128458\n",
      "Coherence\n",
      "Depth_0 -70.88807011861837 27.79407624141067\n",
      "Depth_1 -107.31008224925063 39.27477196125169\n",
      "Overall -103.99899023737498 39.67010726244736\n",
      "W2V-L1\n",
      "Depth_0 1.0461730051578746 0.08564522180325325\n",
      "Depth_1 1.1784467289545055 0.11612676577238303\n",
      "Overall 1.1664218449729937 0.11957493948476054\n"
     ]
    }
   ],
   "source": [
    "%run \"Topic-Efficacy-Metrics-CluWords.ipynb\""
   ]
  },
  {
   "cell_type": "code",
   "execution_count": 4,
   "metadata": {},
   "outputs": [],
   "source": [
    "dataset = \"ang\""
   ]
  },
  {
   "cell_type": "code",
   "execution_count": 5,
   "metadata": {},
   "outputs": [
    {
     "name": "stderr",
     "output_type": "stream",
     "text": [
      "/home/felipeviegas/Codes/occ-notebook-analysis/BERT-zero-shot/bert_env/lib/python3.7/site-packages/sklearn/utils/deprecation.py:87: FutureWarning: Function get_feature_names is deprecated; get_feature_names is deprecated in 1.0 and will be removed in 1.2. Please use get_feature_names_out instead.\n",
      "  warnings.warn(msg, category=FutureWarning)\n"
     ]
    },
    {
     "name": "stdout",
     "output_type": "stream",
     "text": [
      "NPMI\n",
      "Depth_0 0.9486417660766318 0.014449308054295522\n",
      "Depth_1 0.9046902890246198 0.04836331877165354\n",
      "Overall 0.9093784465768344 0.04787958211545592\n",
      "Coherence\n",
      "Depth_0 -40.73681783400508 17.607865349130908\n",
      "Depth_1 -67.49658891070364 36.432116088023236\n",
      "Overall -64.64221332918912 35.80910747765903\n",
      "W2V-L1\n",
      "Depth_0 1.1226807123050093 0.131506025047731\n",
      "Depth_1 1.1849871367710345 0.12649410304191921\n",
      "Overall 1.178341118161325 0.1276000341143053\n"
     ]
    }
   ],
   "source": [
    "%run \"Topic-Efficacy-Metrics-CluWords.ipynb\""
   ]
  },
  {
   "cell_type": "code",
   "execution_count": 6,
   "metadata": {},
   "outputs": [],
   "source": [
    "dataset = \"ever\""
   ]
  },
  {
   "cell_type": "code",
   "execution_count": 7,
   "metadata": {},
   "outputs": [
    {
     "name": "stdout",
     "output_type": "stream",
     "text": [
      "NPMI\n",
      "Depth_0 0.9615591121503483 0.00970325251670171\n",
      "Depth_1 0.9467393614749781 0.02588221356186158\n",
      "Overall 0.94881412656953 0.024752818157137604\n",
      "Coherence\n",
      "Depth_0 -32.36681727912406 8.309526879552232\n",
      "Depth_1 -43.28269087111347 21.86162955309572\n",
      "Overall -41.754468568234955 20.802622424686984\n",
      "W2V-L1\n",
      "Depth_0 1.0186878552512517 0.07304170011544751\n",
      "Depth_1 1.0836572395642443 0.11903574555635259\n",
      "Overall 1.0745615257604255 0.11539996567282126\n"
     ]
    }
   ],
   "source": [
    "%run \"Topic-Efficacy-Metrics-CluWords.ipynb\""
   ]
  },
  {
   "cell_type": "code",
   "execution_count": 8,
   "metadata": {},
   "outputs": [],
   "source": [
    "dataset = \"drop\""
   ]
  },
  {
   "cell_type": "code",
   "execution_count": 9,
   "metadata": {},
   "outputs": [
    {
     "name": "stdout",
     "output_type": "stream",
     "text": [
      "NPMI\n",
      "Depth_0 0.9272433335086023 0.03266328073402021\n",
      "Depth_1 0.9035144463513131 0.044849542242150396\n",
      "Overall 0.9059958986030557 0.04425045882438821\n",
      "Coherence\n",
      "Depth_0 -56.457854644601014 32.10413710988906\n",
      "Depth_1 -67.53604267609259 34.544814651537024\n",
      "Overall -66.37753935253791 34.36579754698271\n",
      "W2V-L1\n",
      "Depth_0 1.1049275237652991 0.10158255430640925\n",
      "Depth_1 1.2266526248667082 0.09980723668387208\n",
      "Overall 1.213923202529306 0.10643218997675942\n"
     ]
    }
   ],
   "source": [
    "%run \"Topic-Efficacy-Metrics-CluWords.ipynb\""
   ]
  },
  {
   "cell_type": "code",
   "execution_count": 14,
   "metadata": {},
   "outputs": [],
   "source": [
    "dataset = \"pinter\""
   ]
  },
  {
   "cell_type": "code",
   "execution_count": 15,
   "metadata": {},
   "outputs": [
    {
     "name": "stdout",
     "output_type": "stream",
     "text": [
      "NPMI\n",
      "Depth_0 0.8960371901653609 0.028839792645481293\n",
      "Depth_1 0.8634570942261705 0.0495133534041899\n",
      "Overall 0.8659331815175489 0.048984377554276766\n",
      "Coherence\n",
      "Depth_0 -78.69301921999445 29.697896636242522\n",
      "Depth_1 -96.81659569376016 41.383140269250354\n",
      "Overall -95.43920388175395 40.850971892563756\n",
      "W2V-L1\n",
      "Depth_0 1.1644761535072188 0.1188687651047623\n",
      "Depth_1 1.250573155900688 0.11390976224813398\n",
      "Overall 1.2440297837187848 0.11631599318853834\n"
     ]
    }
   ],
   "source": [
    "%run \"Topic-Efficacy-Metrics-CluWords.ipynb\""
   ]
  },
  {
   "cell_type": "code",
   "execution_count": 16,
   "metadata": {},
   "outputs": [],
   "source": [
    "dataset = \"tweets\""
   ]
  },
  {
   "cell_type": "code",
   "execution_count": 17,
   "metadata": {},
   "outputs": [
    {
     "name": "stdout",
     "output_type": "stream",
     "text": [
      "NPMI\n",
      "Depth_0 0.9146922781826698 0.03165680237598415\n",
      "Depth_1 0.8750566899019143 0.04578109277665725\n",
      "Overall 0.8787725263032348 0.04600671081072732\n",
      "Coherence\n",
      "Depth_0 -77.45554718572683 31.745412776092525\n",
      "Depth_1 -111.93826460616029 48.81709676778778\n",
      "Overall -108.70550984799466 48.41789481210135\n",
      "W2V-L1\n",
      "Depth_0 0.9720177004734674 0.09443725478231331\n",
      "Depth_1 1.0759201469358965 0.13645280006330762\n",
      "Overall 1.066179292580044 0.13613713172465997\n"
     ]
    }
   ],
   "source": [
    "%run \"Topic-Efficacy-Metrics-CluWords.ipynb\""
   ]
  },
  {
   "cell_type": "code",
   "execution_count": 18,
   "metadata": {},
   "outputs": [],
   "source": [
    "dataset = \"uber\""
   ]
  },
  {
   "cell_type": "code",
   "execution_count": 19,
   "metadata": {},
   "outputs": [
    {
     "name": "stdout",
     "output_type": "stream",
     "text": [
      "NPMI\n",
      "Depth_0 0.9530402938750211 0.00463620631069556\n",
      "Depth_1 0.9156236597286428 0.0383969162800663\n",
      "Overall 0.9186411302243184 0.038215004415687426\n",
      "Coherence\n",
      "Depth_0 -41.14059388714776 4.94123435809382\n",
      "Depth_1 -72.0575571662595 36.81219020262604\n",
      "Overall -69.56425367600853 36.30002955300225\n",
      "W2V-L1\n",
      "Depth_0 1.0142810035414165 0.09962615910771234\n",
      "Depth_1 1.1208486440208456 0.16557898493834364\n",
      "Overall 1.1122544794660527 0.1633272843844525\n"
     ]
    }
   ],
   "source": [
    "%run \"Topic-Efficacy-Metrics-CluWords.ipynb\""
   ]
  },
  {
   "cell_type": "code",
   "execution_count": 20,
   "metadata": {},
   "outputs": [],
   "source": [
    "dataset = \"info\""
   ]
  },
  {
   "cell_type": "code",
   "execution_count": 21,
   "metadata": {},
   "outputs": [
    {
     "name": "stdout",
     "output_type": "stream",
     "text": [
      "NPMI\n",
      "Depth_0 0.996584536447427 0.01076726949412174\n",
      "Depth_1 0.9890708798650919 0.022694356950830333\n",
      "Overall 0.9898659757997305 0.02184788460336354\n",
      "Coherence\n",
      "Depth_0 -2.8099459573989423 8.71221968248432\n",
      "Depth_1 -6.267421453769003 14.85361838756312\n",
      "Overall -5.9015510308727 14.351546018357942\n",
      "W2V-L1\n",
      "Depth_0 1.0615518478221364 0.06862607051089009\n",
      "Depth_1 1.17220259732827 0.06284888015682707\n",
      "Overall 1.1604935233064568 0.0719055806850388\n"
     ]
    }
   ],
   "source": [
    "%run \"Topic-Efficacy-Metrics-CluWords.ipynb\""
   ]
  },
  {
   "cell_type": "code",
   "execution_count": 22,
   "metadata": {},
   "outputs": [],
   "source": [
    "dataset = \"trip\""
   ]
  },
  {
   "cell_type": "code",
   "execution_count": 23,
   "metadata": {},
   "outputs": [
    {
     "name": "stdout",
     "output_type": "stream",
     "text": [
      "NPMI\n",
      "Depth_0 0.940271093881521 0.020765996641498346\n",
      "Depth_1 0.9184578374084177 0.04023120020399689\n",
      "Overall 0.9205189325082387 0.03928209332833203\n",
      "Coherence\n",
      "Depth_0 -49.69719901303137 20.2599063858408\n",
      "Depth_1 -61.99009490705857 33.69243729091039\n",
      "Overall -60.828561436756786 32.80143479684801\n",
      "W2V-L1\n",
      "Depth_0 1.0798725256903305 0.0925502099571006\n",
      "Depth_1 1.1624707594607477 0.12465929578183306\n",
      "Overall 1.1546662019391334 0.12408100351159745\n"
     ]
    }
   ],
   "source": [
    "%run \"Topic-Efficacy-Metrics-CluWords.ipynb\""
   ]
  },
  {
   "cell_type": "code",
   "execution_count": 24,
   "metadata": {},
   "outputs": [],
   "source": [
    "dataset = \"face\""
   ]
  },
  {
   "cell_type": "code",
   "execution_count": 25,
   "metadata": {},
   "outputs": [
    {
     "name": "stdout",
     "output_type": "stream",
     "text": [
      "NPMI\n",
      "Depth_0 0.9329661628683642 0.01485580686241518\n",
      "Depth_1 0.8902413549722092 0.046951620271689226\n",
      "Overall 0.8939245280667054 0.046637776840398396\n",
      "Coherence\n",
      "Depth_0 -57.62469728088532 17.78457058068372\n",
      "Depth_1 -92.95194265030709 43.2608137951322\n",
      "Overall -89.90649046328797 42.80980971659224\n",
      "W2V-L1\n",
      "Depth_0 1.0433415651652547 0.10749124235370569\n",
      "Depth_1 1.1801119645577183 0.16118647267520297\n",
      "Overall 1.168321412885954 0.16159364047288352\n"
     ]
    }
   ],
   "source": [
    "%run \"Topic-Efficacy-Metrics-CluWords.ipynb\""
   ]
  },
  {
   "cell_type": "code",
   "execution_count": 2,
   "metadata": {},
   "outputs": [],
   "source": [
    "dataset = \"acm\""
   ]
  },
  {
   "cell_type": "code",
   "execution_count": 3,
   "metadata": {},
   "outputs": [
    {
     "name": "stderr",
     "output_type": "stream",
     "text": [
      "/usr/local/lib/python3.8/dist-packages/gensim/similarities/__init__.py:15: UserWarning: The gensim.similarities.levenshtein submodule is disabled, because the optional Levenshtein package <https://pypi.org/project/python-Levenshtein/> is unavailable. Install Levenhstein (e.g. `pip install python-Levenshtein`) to suppress this warning.\n",
      "  warnings.warn(msg)\n"
     ]
    },
    {
     "name": "stdout",
     "output_type": "stream",
     "text": [
      "NPMI\n",
      "Depth_0 0.9652462671131309 0.017001850721130436\n",
      "Depth_1 0.9543370287460758 0.020451537665079633\n",
      "Overall 0.9557724548470039 0.020173239341621928\n",
      "Coherence\n",
      "Depth_0 -30.730378192462343 15.896855508874173\n",
      "Depth_1 -42.53892299373849 20.67799267247509\n",
      "Overall -40.985167098833735 20.334268055618434\n",
      "W2V-L1\n",
      "Depth_0 1.0196607313553492 0.12344994450761188\n",
      "Depth_1 1.049115554426455 0.17466979099381613\n",
      "Overall 1.0452399198118358 0.16773787916040397\n"
     ]
    }
   ],
   "source": [
    "%run \"Topic-Efficacy-Metrics-CluWords.ipynb\""
   ]
  },
  {
   "cell_type": "code",
   "execution_count": null,
   "metadata": {},
   "outputs": [],
   "source": [
    "# dataset = \"20News\""
   ]
  },
  {
   "cell_type": "code",
   "execution_count": null,
   "metadata": {},
   "outputs": [],
   "source": [
    "# %run \"Topic-Efficacy-Metrics-CluWords.ipynb\""
   ]
  }
 ],
 "metadata": {
  "kernelspec": {
   "display_name": "Python 3 (ipykernel)",
   "language": "python",
   "name": "python3"
  },
  "language_info": {
   "codemirror_mode": {
    "name": "ipython",
    "version": 3
   },
   "file_extension": ".py",
   "mimetype": "text/x-python",
   "name": "python",
   "nbconvert_exporter": "python",
   "pygments_lexer": "ipython3",
   "version": "3.7.12"
  }
 },
 "nbformat": 4,
 "nbformat_minor": 4
}
