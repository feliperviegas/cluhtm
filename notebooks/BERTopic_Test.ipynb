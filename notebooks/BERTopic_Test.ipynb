{
  "cells": [
    {
      "cell_type": "code",
      "execution_count": 221,
      "metadata": {
        "colab": {
          "base_uri": "https://localhost:8080/"
        },
        "id": "85bOFwnCiyeH",
        "outputId": "cc7b587a-2d37-4451-b016-00b1fa6c4ce2"
      },
      "outputs": [],
      "source": [
        "# !pip install bertopic[all]\n",
        "# !pip install bertopic"
      ]
    },
    {
      "cell_type": "code",
      "execution_count": 222,
      "metadata": {
        "id": "9ykIkMUxi44J"
      },
      "outputs": [],
      "source": [
        "from bertopic import BERTopic"
      ]
    },
    {
      "cell_type": "code",
      "execution_count": 223,
      "metadata": {
        "colab": {
          "base_uri": "https://localhost:8080/",
          "height": 120
        },
        "id": "N1Xp8Hfai71c",
        "outputId": "7ecb3475-5ac9-4051-b6a0-7aba0c1364d5"
      },
      "outputs": [],
      "source": [
        "# from sklearn.datasets import fetch_20newsgroups\n",
        "# docs = fetch_20newsgroups(subset='all',  remove=('headers', 'footers', 'quotes'))['data']\n",
        "# docs[0]"
      ]
    },
    {
      "cell_type": "markdown",
      "metadata": {
        "id": "fDUyPqoRHOIU"
      },
      "source": [
        "## **Reading Dataset**"
      ]
    },
    {
      "cell_type": "code",
      "execution_count": 224,
      "metadata": {
        "id": "VkVffg5LIGG7"
      },
      "outputs": [],
      "source": [
        "dataset = \"20News\"\n",
        "input_dataset = f\"Baselines/textual_folds/{dataset}/{dataset}Pre.txt\""
      ]
    },
    {
      "cell_type": "code",
      "execution_count": 225,
      "metadata": {
        "id": "qrFMRwMGHNdF"
      },
      "outputs": [],
      "source": [
        "def read_input(input_dataset):\n",
        "    arq = open(input_dataset, 'r', encoding=\"utf-8\")\n",
        "    doc = arq.readlines()\n",
        "    arq.close()\n",
        "    documents = list(map(str.rstrip, doc))\n",
        "    return documents\n"
      ]
    },
    {
      "cell_type": "code",
      "execution_count": 226,
      "metadata": {
        "id": "n6h4_Rv7IKW8"
      },
      "outputs": [],
      "source": [
        "docs = read_input(input_dataset=input_dataset)"
      ]
    },
    {
      "cell_type": "code",
      "execution_count": 227,
      "metadata": {
        "colab": {
          "base_uri": "https://localhost:8080/"
        },
        "id": "VhfJBhWcIEJO",
        "outputId": "621abda8-c6b0-49c8-9233-b51ad7f9fd3d"
      },
      "outputs": [
        {
          "data": {
            "text/plain": [
              "['faces week running world faces',\n",
              " 'buy cable operator billion cable mobile phone',\n",
              " 'voting austerity millionaires']"
            ]
          },
          "execution_count": 227,
          "metadata": {},
          "output_type": "execute_result"
        }
      ],
      "source": [
        "docs[:3]"
      ]
    },
    {
      "cell_type": "markdown",
      "metadata": {
        "id": "Oc4tj3fBH1_A"
      },
      "source": [
        "## **BERTopic**"
      ]
    },
    {
      "cell_type": "code",
      "execution_count": 228,
      "metadata": {
        "id": "9qDPZ14Zrjh6"
      },
      "outputs": [],
      "source": [
        "number_topics = 35\n",
        "top_words = 10"
      ]
    },
    {
      "cell_type": "code",
      "execution_count": 229,
      "metadata": {
        "colab": {
          "base_uri": "https://localhost:8080/",
          "height": 120,
          "referenced_widgets": [
            "ea6e7a403f884213a50ad5f0bf20da6c",
            "13cd4a86aa68484ca51489a87837322b",
            "cbf6e36603b947e0a995d24cc160e337",
            "6e0ff03cc7094f5d95e30d1feb34b4e7",
            "84d7aa8d8d98435f876b3fd47c435acb",
            "27e8beea812f46289947d89cff67b705",
            "d29bb854915a457083d2857e9911482d",
            "3bb5c61c0b484dab9174e79c8e89755b"
          ]
        },
        "id": "e2LsVRHhi_2C",
        "outputId": "70585d18-7bd2-4b78-975d-5d684b31ada4"
      },
      "outputs": [],
      "source": [
        "topic_model = BERTopic(nr_topics=number_topics, top_n_words=top_words)\n",
        "topics, _ = topic_model.fit_transform(docs)"
      ]
    },
    {
      "cell_type": "markdown",
      "metadata": {
        "id": "Uywp8aH8C6-f"
      },
      "source": [
        "## **Get Topic Information**"
      ]
    },
    {
      "cell_type": "code",
      "execution_count": 230,
      "metadata": {
        "colab": {
          "base_uri": "https://localhost:8080/"
        },
        "id": "X2gouyUvnJoC",
        "outputId": "05871ebf-53cf-42cd-f5cb-e77c3dae46ec"
      },
      "outputs": [
        {
          "data": {
            "text/plain": [
              "16"
            ]
          },
          "execution_count": 230,
          "metadata": {},
          "output_type": "execute_result"
        }
      ],
      "source": [
        "len(topic_model.get_topic_info())"
      ]
    },
    {
      "cell_type": "markdown",
      "metadata": {
        "id": "tBNnzwEjENmd"
      },
      "source": [
        "## **Get Top Words of a Topic**"
      ]
    },
    {
      "cell_type": "code",
      "execution_count": 231,
      "metadata": {
        "colab": {
          "base_uri": "https://localhost:8080/"
        },
        "id": "bOMi0Ee5unTC",
        "outputId": "746711e7-e9ec-4079-dcd2-45abd9490384"
      },
      "outputs": [
        {
          "data": {
            "text/plain": [
              "[('wind', 0.3880908116987635),\n",
              " ('mph', 0.30879826826356577),\n",
              " ('wain', 0.25627910056429754),\n",
              " ('wash', 0.202420325142793),\n",
              " ('wine', 0.1614931667475484),\n",
              " ('gust', 0.13899792236263692),\n",
              " ('slowly', 0.1275788752484128),\n",
              " ('walling', 0.11327872238058245),\n",
              " ('ave', 0.11227258067575165),\n",
              " ('wife', 0.1071744370000687)]"
            ]
          },
          "execution_count": 231,
          "metadata": {},
          "output_type": "execute_result"
        }
      ],
      "source": [
        "topic_model.get_topic(0)"
      ]
    },
    {
      "cell_type": "code",
      "execution_count": 232,
      "metadata": {
        "id": "apix6EufrtTg"
      },
      "outputs": [],
      "source": [
        "topic_results = []\n",
        "for topic_id in range(0, len(topic_model.get_topic_info())-1):\n",
        "  topic_info = topic_model.get_topic(topic_id)\n",
        "  words = ' '.join(word for word, score in topic_info)\n",
        "  top_5_words = '_'.join(word for word, score in topic_info[:5])\n",
        "  topic_results.append(words)\n",
        "\n",
        "# topic_results.keys()\n"
      ]
    },
    {
      "cell_type": "code",
      "execution_count": 233,
      "metadata": {
        "id": "erdbJdkPsmVH"
      },
      "outputs": [],
      "source": [
        "with open(f\"Baselines/BertTopicsResultsHierarchical/topic_words_{top_words}_{dataset}.txt\", \"w\") as output_file:\n",
        "  for topic in topic_results:\n",
        "    output_file.write(f\"{topic}\\n\")\n",
        "\n",
        "  output_file.close()\n",
        "\n",
        "with open(f\"Baselines/BertTopicsResultsHierarchical/config_{dataset}_{top_words}.txt\\n\", \"w\") as output_file:\n",
        "  output_file.write('Number of topics:{}\\n'.format(number_topics))\n",
        "  output_file.write('Number of words:{}\\n'.format(top_words))\n",
        "  output_file.close()"
      ]
    },
    {
      "attachments": {},
      "cell_type": "markdown",
      "metadata": {},
      "source": [
        "## Hierarchy Structure"
      ]
    },
    {
      "cell_type": "code",
      "execution_count": 234,
      "metadata": {},
      "outputs": [
        {
          "name": "stderr",
          "output_type": "stream",
          "text": [
            "100%|██████████| 14/14 [00:00<00:00, 199.58it/s]\n"
          ]
        }
      ],
      "source": [
        "from scipy.cluster import hierarchy as sch\n",
        "\n",
        "linkage_function = lambda x: sch.linkage(x, 'single', optimal_ordering=True)\n",
        "hierarchical_topics = topic_model.hierarchical_topics(docs, linkage_function=linkage_function)"
      ]
    },
    {
      "cell_type": "code",
      "execution_count": 235,
      "metadata": {},
      "outputs": [],
      "source": [
        "# import pandas as pd\n",
        "# import io\n",
        "\n",
        "# def print_hierarchy(parent: int, child: int, indent: str, output_file: io.TextIOWrapper):\n",
        "#     # if parent == -1:\n",
        "#     #     output_file.write(f\"\"\"{indent}{\" \".join(hierarchical_topics.Parent_Name.values.astype(str)[0].split(\"_\"))}\\n\"\"\")\n",
        "        \n",
        "#     df_isin = hierarchical_topics[\"Parent_ID\"].astype(int).isin([child])\n",
        "#     if df_isin.any():\n",
        "#         df_aux = hierarchical_topics[df_isin]\n",
        "        \n",
        "#         if df_aux.Child_Left_Name.values.astype(str) != df_aux.Parent_Name.values.astype(str):\n",
        "#             indent_left = indent + \"\\t\"\n",
        "#         else:\n",
        "#             indent_left = indent\n",
        "            \n",
        "#         print_hierarchy(parent=child, child=df_aux.Child_Left_ID.values.astype(int)[0], indent=indent_left, output_file=output_file)\n",
        "        \n",
        "#         if df_aux.Child_Right_Name.values.astype(str) != df_aux.Parent_Name.values.astype(str):\n",
        "#             indent_right = indent + \"\\t\"\n",
        "#         else:\n",
        "#             indent_right = indent\n",
        "            \n",
        "#         print_hierarchy(parent=child, child=df_aux.Child_Right_ID.values.astype(int)[0], indent=indent_right, output_file=output_file)\n",
        "#     else:\n",
        "#         df_isin_left = hierarchical_topics[\"Child_Left_ID\"].astype(int).isin([child])\n",
        "#         df_isin_right = hierarchical_topics[\"Child_Right_ID\"].astype(int).isin([child])\n",
        "#         if df_isin_left.any():\n",
        "#             df_aux = hierarchical_topics[df_isin_left]\n",
        "#             output_file.write(f\"\"\"{indent}{\" \".join(df_aux.Child_Left_Name.values.astype(str)[0].split(\"_\"))}\\n\"\"\")\n",
        "#         elif df_isin_right.any():\n",
        "#             df_aux = hierarchical_topics[df_isin_right]\n",
        "#             output_file.write(f\"\"\"{indent}{\" \".join(df_aux.Child_Right_Name.values.astype(str)[0].split(\"_\"))}\\n\"\"\")\n",
        "\n",
        "# output_file = open(f\"Baselines/BertTopicsResultsHierarchical/hierarchical_topic_words_5_{dataset}.txt\", \"w\")\n",
        "# print_hierarchy(parent=-1, child=hierarchical_topics.head(1).Parent_ID.astype(int).values[0], indent=\"\", output_file=output_file)\n",
        "# output_file.close()\n"
      ]
    },
    {
      "cell_type": "code",
      "execution_count": 236,
      "metadata": {},
      "outputs": [],
      "source": [
        "import pandas as pd\n",
        "import io\n",
        "\n",
        "def print_binary_hierarchy(df: pd.DataFrame, output_file: io.TextIOWrapper):\n",
        "    indent = \"\"\n",
        "    cont = 0\n",
        "    for idx in range(df.index.max()):\n",
        "        if len(df.iloc[idx].Topics) == 2 and idx+1 != df.index.max():\n",
        "            topic_ids = df.iloc[idx].Topics\n",
        "            for topic_id in topic_ids:\n",
        "                topic_info = topic_model.get_topic(topic_id)\n",
        "                words = ' '.join(word for word, score in topic_info)\n",
        "                indent = \"\\t\"*cont\n",
        "                output_file.write(f\"\"\"{indent}{words}\\n\"\"\")\n",
        "                \n",
        "            cont -= 1\n",
        "        else:\n",
        "            topic_id = set(df.iloc[idx].Topics).difference(set(df.iloc[idx+1].Topics)).pop()\n",
        "            topic_info = topic_model.get_topic(topic_id)\n",
        "            words = ' '.join(word for word, score in topic_info)\n",
        "            indent = \"\\t\"*cont\n",
        "            output_file.write(f\"\"\"{indent}{words}\\n\"\"\")\n",
        "            cont += 1\n",
        "    \n",
        "    for topic_id in df.iloc[df.index.max()].Topics:\n",
        "        topic_info = topic_model.get_topic(topic_id)\n",
        "        words = ' '.join(word for word, score in topic_info)\n",
        "        indent = \"\\t\"*cont\n",
        "        output_file.write(f\"\"\"{indent}{words}\\n\"\"\")\n"
      ]
    },
    {
      "cell_type": "code",
      "execution_count": 237,
      "metadata": {},
      "outputs": [
        {
          "data": {
            "text/html": [
              "<div>\n",
              "<style scoped>\n",
              "    .dataframe tbody tr th:only-of-type {\n",
              "        vertical-align: middle;\n",
              "    }\n",
              "\n",
              "    .dataframe tbody tr th {\n",
              "        vertical-align: top;\n",
              "    }\n",
              "\n",
              "    .dataframe thead th {\n",
              "        text-align: right;\n",
              "    }\n",
              "</style>\n",
              "<table border=\"1\" class=\"dataframe\">\n",
              "  <thead>\n",
              "    <tr style=\"text-align: right;\">\n",
              "      <th></th>\n",
              "      <th>Parent_ID</th>\n",
              "      <th>Parent_Name</th>\n",
              "      <th>Topics</th>\n",
              "      <th>Child_Left_ID</th>\n",
              "      <th>Child_Left_Name</th>\n",
              "      <th>Child_Right_ID</th>\n",
              "      <th>Child_Right_Name</th>\n",
              "      <th>Distance</th>\n",
              "    </tr>\n",
              "  </thead>\n",
              "  <tbody>\n",
              "    <tr>\n",
              "      <th>13</th>\n",
              "      <td>28</td>\n",
              "      <td>wind_mph_wee_west_wain</td>\n",
              "      <td>[0, 1, 2, 3, 4, 5, 6, 7, 8, 9, 10, 11, 12, 13,...</td>\n",
              "      <td>0</td>\n",
              "      <td>wind_mph_wain_wash_wine</td>\n",
              "      <td>27</td>\n",
              "      <td>wee_west_wan_wet_pips</td>\n",
              "      <td>0.976860</td>\n",
              "    </tr>\n",
              "    <tr>\n",
              "      <th>12</th>\n",
              "      <td>27</td>\n",
              "      <td>wee_west_wan_wet_pips</td>\n",
              "      <td>[1, 2, 3, 4, 5, 6, 7, 8, 9, 10, 11, 12, 13, 14]</td>\n",
              "      <td>26</td>\n",
              "      <td>wee_west_wet_pips_troops</td>\n",
              "      <td>13</td>\n",
              "      <td>wan_wave_heat_people_walking</td>\n",
              "      <td>0.949624</td>\n",
              "    </tr>\n",
              "    <tr>\n",
              "      <th>11</th>\n",
              "      <td>26</td>\n",
              "      <td>wee_west_wet_pips_troops</td>\n",
              "      <td>[1, 2, 3, 4, 5, 6, 7, 8, 9, 10, 11, 12, 14]</td>\n",
              "      <td>14</td>\n",
              "      <td>wee_woody_wings_wax_wad</td>\n",
              "      <td>25</td>\n",
              "      <td>west_wet_pips_troops_season</td>\n",
              "      <td>0.948877</td>\n",
              "    </tr>\n",
              "  </tbody>\n",
              "</table>\n",
              "</div>"
            ],
            "text/plain": [
              "   Parent_ID               Parent_Name  \\\n",
              "13        28    wind_mph_wee_west_wain   \n",
              "12        27     wee_west_wan_wet_pips   \n",
              "11        26  wee_west_wet_pips_troops   \n",
              "\n",
              "                                               Topics Child_Left_ID  \\\n",
              "13  [0, 1, 2, 3, 4, 5, 6, 7, 8, 9, 10, 11, 12, 13,...             0   \n",
              "12    [1, 2, 3, 4, 5, 6, 7, 8, 9, 10, 11, 12, 13, 14]            26   \n",
              "11        [1, 2, 3, 4, 5, 6, 7, 8, 9, 10, 11, 12, 14]            14   \n",
              "\n",
              "             Child_Left_Name Child_Right_ID              Child_Right_Name  \\\n",
              "13   wind_mph_wain_wash_wine             27         wee_west_wan_wet_pips   \n",
              "12  wee_west_wet_pips_troops             13  wan_wave_heat_people_walking   \n",
              "11   wee_woody_wings_wax_wad             25   west_wet_pips_troops_season   \n",
              "\n",
              "    Distance  \n",
              "13  0.976860  \n",
              "12  0.949624  \n",
              "11  0.948877  "
            ]
          },
          "execution_count": 237,
          "metadata": {},
          "output_type": "execute_result"
        }
      ],
      "source": [
        "hierarchical_topics.head(3)"
      ]
    },
    {
      "cell_type": "code",
      "execution_count": 238,
      "metadata": {},
      "outputs": [],
      "source": [
        "output_file = open(f\"Baselines/BertTopicsResultsHierarchical/hierarchical_topic_words_{top_words}_{dataset}.txt\", \"w\")\n",
        "print_binary_hierarchy(hierarchical_topics, output_file)\n",
        "output_file.close()\n"
      ]
    },
    {
      "cell_type": "code",
      "execution_count": 239,
      "metadata": {},
      "outputs": [
        {
          "data": {
            "application/vnd.plotly.v1+json": {
              "config": {
                "plotlyServerURL": "https://plot.ly"
              },
              "data": [
                {
                  "hoverinfo": "text",
                  "marker": {
                    "color": "rgb(0,116,217)"
                  },
                  "mode": "lines",
                  "text": [
                    "goals_season_goal_hat_scored",
                    "",
                    "",
                    "warriors_warden_finals_points_quarter"
                  ],
                  "type": "scatter",
                  "x": [
                    0,
                    1.2082770844314592,
                    1.2082770844314592,
                    0
                  ],
                  "xaxis": "x",
                  "y": [
                    -5,
                    -5,
                    -15,
                    -15
                  ],
                  "yaxis": "y"
                },
                {
                  "hoverinfo": "text",
                  "marker": {
                    "color": "rgb(0,116,217)"
                  },
                  "mode": "lines",
                  "text": [
                    "flag_wears_wick_merchandise_flags",
                    "",
                    "",
                    "west_food_trans_fats_restaurant"
                  ],
                  "type": "scatter",
                  "x": [
                    0,
                    1.342720234491057,
                    1.342720234491057,
                    0
                  ],
                  "xaxis": "x",
                  "y": [
                    -35,
                    -35,
                    -45,
                    -45
                  ],
                  "yaxis": "y"
                },
                {
                  "hoverinfo": "text",
                  "marker": {
                    "color": "rgb(0,116,217)"
                  },
                  "mode": "lines",
                  "text": [
                    "wet_wets_banks_hitter_bank",
                    "",
                    "",
                    "wormer_president_presidential_announces_web"
                  ],
                  "type": "scatter",
                  "x": [
                    0,
                    1.336803906573202,
                    1.336803906573202,
                    0
                  ],
                  "xaxis": "x",
                  "y": [
                    -55,
                    -55,
                    -65,
                    -65
                  ],
                  "yaxis": "y"
                },
                {
                  "hoverinfo": "text",
                  "marker": {
                    "color": "rgb(0,116,217)"
                  },
                  "mode": "lines",
                  "text": [
                    "wet_wets_banks_hitter_bank",
                    "",
                    "",
                    "wormer_president_presidential_announces_web"
                  ],
                  "type": "scatter",
                  "x": [
                    1.342720234491057,
                    1.3748974956090385,
                    1.3748974956090385,
                    1.336803906573202
                  ],
                  "xaxis": "x",
                  "y": [
                    -40,
                    -40,
                    -60,
                    -60
                  ],
                  "yaxis": "y"
                },
                {
                  "hoverinfo": "text",
                  "marker": {
                    "color": "rgb(0,116,217)"
                  },
                  "mode": "lines",
                  "text": [
                    "wee_woody_wings_wax_wad",
                    "",
                    "",
                    "coach_sign_striker_deal_head"
                  ],
                  "type": "scatter",
                  "x": [
                    0,
                    1.3501513957296263,
                    1.3501513957296263,
                    0
                  ],
                  "xaxis": "x",
                  "y": [
                    -75,
                    -75,
                    -85,
                    -85
                  ],
                  "yaxis": "y"
                },
                {
                  "hoverinfo": "text",
                  "marker": {
                    "color": "rgb(0,116,217)"
                  },
                  "mode": "lines",
                  "text": [
                    "wee_woody_wings_wax_wad",
                    "",
                    "",
                    "coach_sign_striker_deal_head"
                  ],
                  "type": "scatter",
                  "x": [
                    1.3748974956090385,
                    1.3866850351755142,
                    1.3866850351755142,
                    1.3501513957296263
                  ],
                  "xaxis": "x",
                  "y": [
                    -50,
                    -50,
                    -80,
                    -80
                  ],
                  "yaxis": "y"
                },
                {
                  "hoverinfo": "text",
                  "marker": {
                    "color": "rgb(0,116,217)"
                  },
                  "mode": "lines",
                  "text": [
                    "wind_mph_wain_wash_wine",
                    "",
                    "",
                    "coach_sign_striker_deal_head"
                  ],
                  "type": "scatter",
                  "x": [
                    0,
                    1.4229318900049852,
                    1.4229318900049852,
                    1.3866850351755142
                  ],
                  "xaxis": "x",
                  "y": [
                    -25,
                    -25,
                    -65,
                    -65
                  ],
                  "yaxis": "y"
                },
                {
                  "hoverinfo": "text",
                  "marker": {
                    "color": "rgb(0,116,217)"
                  },
                  "mode": "lines",
                  "text": [
                    "wan_wave_heat_people_walking",
                    "",
                    "",
                    "shot_police_church_woof_shooting"
                  ],
                  "type": "scatter",
                  "x": [
                    0,
                    1.3445941682878355,
                    1.3445941682878355,
                    0
                  ],
                  "xaxis": "x",
                  "y": [
                    -95,
                    -95,
                    -105,
                    -105
                  ],
                  "yaxis": "y"
                },
                {
                  "hoverinfo": "text",
                  "marker": {
                    "color": "rgb(0,116,217)"
                  },
                  "mode": "lines",
                  "text": [
                    "pips_total_engineer_cases_reports",
                    "",
                    "",
                    "flooding_floods_toll_flood_storms"
                  ],
                  "type": "scatter",
                  "x": [
                    0,
                    1.3298229329253883,
                    1.3298229329253883,
                    0
                  ],
                  "xaxis": "x",
                  "y": [
                    -115,
                    -115,
                    -125,
                    -125
                  ],
                  "yaxis": "y"
                },
                {
                  "hoverinfo": "text",
                  "marker": {
                    "color": "rgb(0,116,217)"
                  },
                  "mode": "lines",
                  "text": [
                    "pips_total_engineer_cases_reports",
                    "",
                    "",
                    "flooding_floods_toll_flood_storms"
                  ],
                  "type": "scatter",
                  "x": [
                    1.3445941682878355,
                    1.3892153901076318,
                    1.3892153901076318,
                    1.3298229329253883
                  ],
                  "xaxis": "x",
                  "y": [
                    -100,
                    -100,
                    -120,
                    -120
                  ],
                  "yaxis": "y"
                },
                {
                  "hoverinfo": "text",
                  "marker": {
                    "color": "rgb(0,116,217)"
                  },
                  "mode": "lines",
                  "text": [
                    "plane_landing_crashes_flight_ship",
                    "",
                    "",
                    "troops_army_military_waterloo_soldiers"
                  ],
                  "type": "scatter",
                  "x": [
                    0,
                    1.2902509440915853,
                    1.2902509440915853,
                    0
                  ],
                  "xaxis": "x",
                  "y": [
                    -135,
                    -135,
                    -145,
                    -145
                  ],
                  "yaxis": "y"
                },
                {
                  "hoverinfo": "text",
                  "marker": {
                    "color": "rgb(0,116,217)"
                  },
                  "mode": "lines",
                  "text": [
                    "plane_landing_crashes_flight_ship",
                    "",
                    "",
                    "troops_plane_military_landing_crashes"
                  ],
                  "type": "scatter",
                  "x": [
                    1.3892153901076318,
                    1.3996116841530768,
                    1.3996116841530768,
                    1.2902509440915853
                  ],
                  "xaxis": "x",
                  "y": [
                    -110,
                    -110,
                    -140,
                    -140
                  ],
                  "yaxis": "y"
                },
                {
                  "hoverinfo": "text",
                  "marker": {
                    "color": "rgb(0,116,217)"
                  },
                  "mode": "lines",
                  "text": [
                    "plane_landing_crashes_flight_ship",
                    "",
                    "",
                    "troops_plane_military_landing_crashes"
                  ],
                  "type": "scatter",
                  "x": [
                    1.4229318900049852,
                    1.4776495428267447,
                    1.4776495428267447,
                    1.3996116841530768
                  ],
                  "xaxis": "x",
                  "y": [
                    -45,
                    -45,
                    -125,
                    -125
                  ],
                  "yaxis": "y"
                },
                {
                  "hoverinfo": "text",
                  "marker": {
                    "color": "rgb(0,116,217)"
                  },
                  "mode": "lines",
                  "text": [
                    "goals_season_warriors_goal_warden",
                    "",
                    "",
                    "troops_plane_military_landing_crashes"
                  ],
                  "type": "scatter",
                  "x": [
                    1.2082770844314592,
                    1.5292659791867018,
                    1.5292659791867018,
                    1.4776495428267447
                  ],
                  "xaxis": "x",
                  "y": [
                    -10,
                    -10,
                    -85,
                    -85
                  ],
                  "yaxis": "y"
                },
                {
                  "hoverinfo": "text",
                  "hovertext": [
                    "wet_wets_banks_hitter_bank",
                    "wee_woody_wings_wax_wad",
                    "pips_total_engineer_cases_reports",
                    "plane_landing_crashes_flight_ship",
                    "plane_landing_crashes_flight_ship",
                    "goals_season_warriors_goal_warden"
                  ],
                  "marker": {
                    "color": "black"
                  },
                  "mode": "markers",
                  "showlegend": false,
                  "type": "scatter",
                  "x": [
                    1.342720234491057,
                    1.3748974956090385,
                    1.3445941682878355,
                    1.3892153901076318,
                    1.4229318900049852,
                    1.2082770844314592
                  ],
                  "y": [
                    -40,
                    -50,
                    -100,
                    -110,
                    -45,
                    -10
                  ]
                },
                {
                  "hoverinfo": "text",
                  "hovertext": [
                    "wormer_president_presidential_announces_web",
                    "coach_sign_striker_deal_head",
                    "coach_sign_striker_deal_head",
                    "flooding_floods_toll_flood_storms",
                    "troops_plane_military_landing_crashes",
                    "troops_plane_military_landing_crashes",
                    "troops_plane_military_landing_crashes"
                  ],
                  "marker": {
                    "color": "black"
                  },
                  "mode": "markers",
                  "showlegend": false,
                  "type": "scatter",
                  "x": [
                    1.336803906573202,
                    1.3501513957296263,
                    1.3866850351755142,
                    1.3298229329253883,
                    1.2902509440915853,
                    1.3996116841530768,
                    1.4776495428267447
                  ],
                  "y": [
                    -60,
                    -80,
                    -65,
                    -120,
                    -140,
                    -125,
                    -85
                  ]
                }
              ],
              "layout": {
                "autosize": false,
                "height": 425,
                "hoverlabel": {
                  "bgcolor": "white",
                  "font": {
                    "family": "Rockwell",
                    "size": 16
                  }
                },
                "hovermode": "closest",
                "plot_bgcolor": "#ECEFF1",
                "showlegend": false,
                "template": {
                  "data": {
                    "bar": [
                      {
                        "error_x": {
                          "color": "#2a3f5f"
                        },
                        "error_y": {
                          "color": "#2a3f5f"
                        },
                        "marker": {
                          "line": {
                            "color": "white",
                            "width": 0.5
                          },
                          "pattern": {
                            "fillmode": "overlay",
                            "size": 10,
                            "solidity": 0.2
                          }
                        },
                        "type": "bar"
                      }
                    ],
                    "barpolar": [
                      {
                        "marker": {
                          "line": {
                            "color": "white",
                            "width": 0.5
                          },
                          "pattern": {
                            "fillmode": "overlay",
                            "size": 10,
                            "solidity": 0.2
                          }
                        },
                        "type": "barpolar"
                      }
                    ],
                    "carpet": [
                      {
                        "aaxis": {
                          "endlinecolor": "#2a3f5f",
                          "gridcolor": "#C8D4E3",
                          "linecolor": "#C8D4E3",
                          "minorgridcolor": "#C8D4E3",
                          "startlinecolor": "#2a3f5f"
                        },
                        "baxis": {
                          "endlinecolor": "#2a3f5f",
                          "gridcolor": "#C8D4E3",
                          "linecolor": "#C8D4E3",
                          "minorgridcolor": "#C8D4E3",
                          "startlinecolor": "#2a3f5f"
                        },
                        "type": "carpet"
                      }
                    ],
                    "choropleth": [
                      {
                        "colorbar": {
                          "outlinewidth": 0,
                          "ticks": ""
                        },
                        "type": "choropleth"
                      }
                    ],
                    "contour": [
                      {
                        "colorbar": {
                          "outlinewidth": 0,
                          "ticks": ""
                        },
                        "colorscale": [
                          [
                            0,
                            "#0d0887"
                          ],
                          [
                            0.1111111111111111,
                            "#46039f"
                          ],
                          [
                            0.2222222222222222,
                            "#7201a8"
                          ],
                          [
                            0.3333333333333333,
                            "#9c179e"
                          ],
                          [
                            0.4444444444444444,
                            "#bd3786"
                          ],
                          [
                            0.5555555555555556,
                            "#d8576b"
                          ],
                          [
                            0.6666666666666666,
                            "#ed7953"
                          ],
                          [
                            0.7777777777777778,
                            "#fb9f3a"
                          ],
                          [
                            0.8888888888888888,
                            "#fdca26"
                          ],
                          [
                            1,
                            "#f0f921"
                          ]
                        ],
                        "type": "contour"
                      }
                    ],
                    "contourcarpet": [
                      {
                        "colorbar": {
                          "outlinewidth": 0,
                          "ticks": ""
                        },
                        "type": "contourcarpet"
                      }
                    ],
                    "heatmap": [
                      {
                        "colorbar": {
                          "outlinewidth": 0,
                          "ticks": ""
                        },
                        "colorscale": [
                          [
                            0,
                            "#0d0887"
                          ],
                          [
                            0.1111111111111111,
                            "#46039f"
                          ],
                          [
                            0.2222222222222222,
                            "#7201a8"
                          ],
                          [
                            0.3333333333333333,
                            "#9c179e"
                          ],
                          [
                            0.4444444444444444,
                            "#bd3786"
                          ],
                          [
                            0.5555555555555556,
                            "#d8576b"
                          ],
                          [
                            0.6666666666666666,
                            "#ed7953"
                          ],
                          [
                            0.7777777777777778,
                            "#fb9f3a"
                          ],
                          [
                            0.8888888888888888,
                            "#fdca26"
                          ],
                          [
                            1,
                            "#f0f921"
                          ]
                        ],
                        "type": "heatmap"
                      }
                    ],
                    "heatmapgl": [
                      {
                        "colorbar": {
                          "outlinewidth": 0,
                          "ticks": ""
                        },
                        "colorscale": [
                          [
                            0,
                            "#0d0887"
                          ],
                          [
                            0.1111111111111111,
                            "#46039f"
                          ],
                          [
                            0.2222222222222222,
                            "#7201a8"
                          ],
                          [
                            0.3333333333333333,
                            "#9c179e"
                          ],
                          [
                            0.4444444444444444,
                            "#bd3786"
                          ],
                          [
                            0.5555555555555556,
                            "#d8576b"
                          ],
                          [
                            0.6666666666666666,
                            "#ed7953"
                          ],
                          [
                            0.7777777777777778,
                            "#fb9f3a"
                          ],
                          [
                            0.8888888888888888,
                            "#fdca26"
                          ],
                          [
                            1,
                            "#f0f921"
                          ]
                        ],
                        "type": "heatmapgl"
                      }
                    ],
                    "histogram": [
                      {
                        "marker": {
                          "pattern": {
                            "fillmode": "overlay",
                            "size": 10,
                            "solidity": 0.2
                          }
                        },
                        "type": "histogram"
                      }
                    ],
                    "histogram2d": [
                      {
                        "colorbar": {
                          "outlinewidth": 0,
                          "ticks": ""
                        },
                        "colorscale": [
                          [
                            0,
                            "#0d0887"
                          ],
                          [
                            0.1111111111111111,
                            "#46039f"
                          ],
                          [
                            0.2222222222222222,
                            "#7201a8"
                          ],
                          [
                            0.3333333333333333,
                            "#9c179e"
                          ],
                          [
                            0.4444444444444444,
                            "#bd3786"
                          ],
                          [
                            0.5555555555555556,
                            "#d8576b"
                          ],
                          [
                            0.6666666666666666,
                            "#ed7953"
                          ],
                          [
                            0.7777777777777778,
                            "#fb9f3a"
                          ],
                          [
                            0.8888888888888888,
                            "#fdca26"
                          ],
                          [
                            1,
                            "#f0f921"
                          ]
                        ],
                        "type": "histogram2d"
                      }
                    ],
                    "histogram2dcontour": [
                      {
                        "colorbar": {
                          "outlinewidth": 0,
                          "ticks": ""
                        },
                        "colorscale": [
                          [
                            0,
                            "#0d0887"
                          ],
                          [
                            0.1111111111111111,
                            "#46039f"
                          ],
                          [
                            0.2222222222222222,
                            "#7201a8"
                          ],
                          [
                            0.3333333333333333,
                            "#9c179e"
                          ],
                          [
                            0.4444444444444444,
                            "#bd3786"
                          ],
                          [
                            0.5555555555555556,
                            "#d8576b"
                          ],
                          [
                            0.6666666666666666,
                            "#ed7953"
                          ],
                          [
                            0.7777777777777778,
                            "#fb9f3a"
                          ],
                          [
                            0.8888888888888888,
                            "#fdca26"
                          ],
                          [
                            1,
                            "#f0f921"
                          ]
                        ],
                        "type": "histogram2dcontour"
                      }
                    ],
                    "mesh3d": [
                      {
                        "colorbar": {
                          "outlinewidth": 0,
                          "ticks": ""
                        },
                        "type": "mesh3d"
                      }
                    ],
                    "parcoords": [
                      {
                        "line": {
                          "colorbar": {
                            "outlinewidth": 0,
                            "ticks": ""
                          }
                        },
                        "type": "parcoords"
                      }
                    ],
                    "pie": [
                      {
                        "automargin": true,
                        "type": "pie"
                      }
                    ],
                    "scatter": [
                      {
                        "marker": {
                          "colorbar": {
                            "outlinewidth": 0,
                            "ticks": ""
                          }
                        },
                        "type": "scatter"
                      }
                    ],
                    "scatter3d": [
                      {
                        "line": {
                          "colorbar": {
                            "outlinewidth": 0,
                            "ticks": ""
                          }
                        },
                        "marker": {
                          "colorbar": {
                            "outlinewidth": 0,
                            "ticks": ""
                          }
                        },
                        "type": "scatter3d"
                      }
                    ],
                    "scattercarpet": [
                      {
                        "marker": {
                          "colorbar": {
                            "outlinewidth": 0,
                            "ticks": ""
                          }
                        },
                        "type": "scattercarpet"
                      }
                    ],
                    "scattergeo": [
                      {
                        "marker": {
                          "colorbar": {
                            "outlinewidth": 0,
                            "ticks": ""
                          }
                        },
                        "type": "scattergeo"
                      }
                    ],
                    "scattergl": [
                      {
                        "marker": {
                          "colorbar": {
                            "outlinewidth": 0,
                            "ticks": ""
                          }
                        },
                        "type": "scattergl"
                      }
                    ],
                    "scattermapbox": [
                      {
                        "marker": {
                          "colorbar": {
                            "outlinewidth": 0,
                            "ticks": ""
                          }
                        },
                        "type": "scattermapbox"
                      }
                    ],
                    "scatterpolar": [
                      {
                        "marker": {
                          "colorbar": {
                            "outlinewidth": 0,
                            "ticks": ""
                          }
                        },
                        "type": "scatterpolar"
                      }
                    ],
                    "scatterpolargl": [
                      {
                        "marker": {
                          "colorbar": {
                            "outlinewidth": 0,
                            "ticks": ""
                          }
                        },
                        "type": "scatterpolargl"
                      }
                    ],
                    "scatterternary": [
                      {
                        "marker": {
                          "colorbar": {
                            "outlinewidth": 0,
                            "ticks": ""
                          }
                        },
                        "type": "scatterternary"
                      }
                    ],
                    "surface": [
                      {
                        "colorbar": {
                          "outlinewidth": 0,
                          "ticks": ""
                        },
                        "colorscale": [
                          [
                            0,
                            "#0d0887"
                          ],
                          [
                            0.1111111111111111,
                            "#46039f"
                          ],
                          [
                            0.2222222222222222,
                            "#7201a8"
                          ],
                          [
                            0.3333333333333333,
                            "#9c179e"
                          ],
                          [
                            0.4444444444444444,
                            "#bd3786"
                          ],
                          [
                            0.5555555555555556,
                            "#d8576b"
                          ],
                          [
                            0.6666666666666666,
                            "#ed7953"
                          ],
                          [
                            0.7777777777777778,
                            "#fb9f3a"
                          ],
                          [
                            0.8888888888888888,
                            "#fdca26"
                          ],
                          [
                            1,
                            "#f0f921"
                          ]
                        ],
                        "type": "surface"
                      }
                    ],
                    "table": [
                      {
                        "cells": {
                          "fill": {
                            "color": "#EBF0F8"
                          },
                          "line": {
                            "color": "white"
                          }
                        },
                        "header": {
                          "fill": {
                            "color": "#C8D4E3"
                          },
                          "line": {
                            "color": "white"
                          }
                        },
                        "type": "table"
                      }
                    ]
                  },
                  "layout": {
                    "annotationdefaults": {
                      "arrowcolor": "#2a3f5f",
                      "arrowhead": 0,
                      "arrowwidth": 1
                    },
                    "autotypenumbers": "strict",
                    "coloraxis": {
                      "colorbar": {
                        "outlinewidth": 0,
                        "ticks": ""
                      }
                    },
                    "colorscale": {
                      "diverging": [
                        [
                          0,
                          "#8e0152"
                        ],
                        [
                          0.1,
                          "#c51b7d"
                        ],
                        [
                          0.2,
                          "#de77ae"
                        ],
                        [
                          0.3,
                          "#f1b6da"
                        ],
                        [
                          0.4,
                          "#fde0ef"
                        ],
                        [
                          0.5,
                          "#f7f7f7"
                        ],
                        [
                          0.6,
                          "#e6f5d0"
                        ],
                        [
                          0.7,
                          "#b8e186"
                        ],
                        [
                          0.8,
                          "#7fbc41"
                        ],
                        [
                          0.9,
                          "#4d9221"
                        ],
                        [
                          1,
                          "#276419"
                        ]
                      ],
                      "sequential": [
                        [
                          0,
                          "#0d0887"
                        ],
                        [
                          0.1111111111111111,
                          "#46039f"
                        ],
                        [
                          0.2222222222222222,
                          "#7201a8"
                        ],
                        [
                          0.3333333333333333,
                          "#9c179e"
                        ],
                        [
                          0.4444444444444444,
                          "#bd3786"
                        ],
                        [
                          0.5555555555555556,
                          "#d8576b"
                        ],
                        [
                          0.6666666666666666,
                          "#ed7953"
                        ],
                        [
                          0.7777777777777778,
                          "#fb9f3a"
                        ],
                        [
                          0.8888888888888888,
                          "#fdca26"
                        ],
                        [
                          1,
                          "#f0f921"
                        ]
                      ],
                      "sequentialminus": [
                        [
                          0,
                          "#0d0887"
                        ],
                        [
                          0.1111111111111111,
                          "#46039f"
                        ],
                        [
                          0.2222222222222222,
                          "#7201a8"
                        ],
                        [
                          0.3333333333333333,
                          "#9c179e"
                        ],
                        [
                          0.4444444444444444,
                          "#bd3786"
                        ],
                        [
                          0.5555555555555556,
                          "#d8576b"
                        ],
                        [
                          0.6666666666666666,
                          "#ed7953"
                        ],
                        [
                          0.7777777777777778,
                          "#fb9f3a"
                        ],
                        [
                          0.8888888888888888,
                          "#fdca26"
                        ],
                        [
                          1,
                          "#f0f921"
                        ]
                      ]
                    },
                    "colorway": [
                      "#636efa",
                      "#EF553B",
                      "#00cc96",
                      "#ab63fa",
                      "#FFA15A",
                      "#19d3f3",
                      "#FF6692",
                      "#B6E880",
                      "#FF97FF",
                      "#FECB52"
                    ],
                    "font": {
                      "color": "#2a3f5f"
                    },
                    "geo": {
                      "bgcolor": "white",
                      "lakecolor": "white",
                      "landcolor": "white",
                      "showlakes": true,
                      "showland": true,
                      "subunitcolor": "#C8D4E3"
                    },
                    "hoverlabel": {
                      "align": "left"
                    },
                    "hovermode": "closest",
                    "mapbox": {
                      "style": "light"
                    },
                    "paper_bgcolor": "white",
                    "plot_bgcolor": "white",
                    "polar": {
                      "angularaxis": {
                        "gridcolor": "#EBF0F8",
                        "linecolor": "#EBF0F8",
                        "ticks": ""
                      },
                      "bgcolor": "white",
                      "radialaxis": {
                        "gridcolor": "#EBF0F8",
                        "linecolor": "#EBF0F8",
                        "ticks": ""
                      }
                    },
                    "scene": {
                      "xaxis": {
                        "backgroundcolor": "white",
                        "gridcolor": "#DFE8F3",
                        "gridwidth": 2,
                        "linecolor": "#EBF0F8",
                        "showbackground": true,
                        "ticks": "",
                        "zerolinecolor": "#EBF0F8"
                      },
                      "yaxis": {
                        "backgroundcolor": "white",
                        "gridcolor": "#DFE8F3",
                        "gridwidth": 2,
                        "linecolor": "#EBF0F8",
                        "showbackground": true,
                        "ticks": "",
                        "zerolinecolor": "#EBF0F8"
                      },
                      "zaxis": {
                        "backgroundcolor": "white",
                        "gridcolor": "#DFE8F3",
                        "gridwidth": 2,
                        "linecolor": "#EBF0F8",
                        "showbackground": true,
                        "ticks": "",
                        "zerolinecolor": "#EBF0F8"
                      }
                    },
                    "shapedefaults": {
                      "line": {
                        "color": "#2a3f5f"
                      }
                    },
                    "ternary": {
                      "aaxis": {
                        "gridcolor": "#DFE8F3",
                        "linecolor": "#A2B1C6",
                        "ticks": ""
                      },
                      "baxis": {
                        "gridcolor": "#DFE8F3",
                        "linecolor": "#A2B1C6",
                        "ticks": ""
                      },
                      "bgcolor": "white",
                      "caxis": {
                        "gridcolor": "#DFE8F3",
                        "linecolor": "#A2B1C6",
                        "ticks": ""
                      }
                    },
                    "title": {
                      "x": 0.05
                    },
                    "xaxis": {
                      "automargin": true,
                      "gridcolor": "#EBF0F8",
                      "linecolor": "#EBF0F8",
                      "ticks": "",
                      "title": {
                        "standoff": 15
                      },
                      "zerolinecolor": "#EBF0F8",
                      "zerolinewidth": 2
                    },
                    "yaxis": {
                      "automargin": true,
                      "gridcolor": "#EBF0F8",
                      "linecolor": "#EBF0F8",
                      "ticks": "",
                      "title": {
                        "standoff": 15
                      },
                      "zerolinecolor": "#EBF0F8",
                      "zerolinewidth": 2
                    }
                  }
                },
                "title": {
                  "font": {
                    "color": "Black",
                    "size": 22
                  },
                  "text": "<b>Hierarchical Clustering",
                  "x": 0.5,
                  "xanchor": "center",
                  "yanchor": "top"
                },
                "width": 1000,
                "xaxis": {
                  "mirror": "allticks",
                  "rangemode": "tozero",
                  "showgrid": false,
                  "showline": true,
                  "showticklabels": true,
                  "ticks": "outside",
                  "type": "linear",
                  "zeroline": false
                },
                "yaxis": {
                  "mirror": "allticks",
                  "range": [
                    -150,
                    0
                  ],
                  "rangemode": "tozero",
                  "showgrid": false,
                  "showline": true,
                  "showticklabels": true,
                  "tickmode": "array",
                  "ticks": "outside",
                  "ticktext": [
                    "12_goals_season_goal",
                    "6_warriors_warden_finals",
                    "0_wind_mph_wain",
                    "10_flag_wears_wick",
                    "4_west_food_trans",
                    "11_wet_wets_banks",
                    "7_wormer_president_presiden...",
                    "8_coach_sign_striker",
                    "14_wee_woody_wings",
                    "13_wan_wave_heat",
                    "9_shot_police_church",
                    "2_pips_total_engineer",
                    "3_flooding_floods_toll",
                    "5_plane_landing_crashes",
                    "1_troops_army_military"
                  ],
                  "tickvals": [
                    -5,
                    -15,
                    -25,
                    -35,
                    -45,
                    -55,
                    -65,
                    -75,
                    -85,
                    -95,
                    -105,
                    -115,
                    -125,
                    -135,
                    -145
                  ],
                  "type": "linear",
                  "zeroline": false
                }
              }
            }
          },
          "metadata": {},
          "output_type": "display_data"
        }
      ],
      "source": [
        "topic_model.visualize_hierarchy(hierarchical_topics=hierarchical_topics)"
      ]
    },
    {
      "cell_type": "code",
      "execution_count": 240,
      "metadata": {},
      "outputs": [
        {
          "name": "stdout",
          "output_type": "stream",
          "text": [
            ".\n",
            "├─■──wind_mph_wain_wash_wine ── Topic: 0\n",
            "└─wee_west_wan_wet_pips\n",
            "     ├─wee_west_wet_pips_troops\n",
            "     │    ├─■──wee_woody_wings_wax_wad ── Topic: 14\n",
            "     │    └─west_wet_pips_troops_season\n",
            "     │         ├─west_pips_troops_wet_season\n",
            "     │         │    ├─pips_troops_wet_season_goals\n",
            "     │         │    │    ├─pips_troops_military_plane_shot\n",
            "     │         │    │    │    ├─■──pips_total_engineer_cases_reports ── Topic: 2\n",
            "     │         │    │    │    └─troops_military_plane_shot_toll\n",
            "     │         │    │    │         ├─■──flooding_floods_toll_flood_storms ── Topic: 3\n",
            "     │         │    │    │         └─troops_military_plane_shot_landing\n",
            "     │         │    │    │              ├─troops_plane_military_landing_crashes\n",
            "     │         │    │    │              │    ├─■──plane_landing_crashes_flight_ship ── Topic: 5\n",
            "     │         │    │    │              │    └─■──troops_army_military_waterloo_soldiers ── Topic: 1\n",
            "     │         │    │    │              └─■──shot_police_church_woof_shooting ── Topic: 9\n",
            "     │         │    │    └─wet_season_goals_coach_wormer\n",
            "     │         │    │         ├─■──wormer_president_presidential_announces_web ── Topic: 7\n",
            "     │         │    │         └─wet_season_goals_coach_warriors\n",
            "     │         │    │              ├─wet_goals_season_warriors_goal\n",
            "     │         │    │              │    ├─■──wet_wets_banks_hitter_bank ── Topic: 11\n",
            "     │         │    │              │    └─goals_season_warriors_goal_warden\n",
            "     │         │    │              │         ├─■──warriors_warden_finals_points_quarter ── Topic: 6\n",
            "     │         │    │              │         └─■──goals_season_goal_hat_scored ── Topic: 12\n",
            "     │         │    │              └─■──coach_sign_striker_deal_head ── Topic: 8\n",
            "     │         │    └─■──west_food_trans_fats_restaurant ── Topic: 4\n",
            "     │         └─■──flag_wears_wick_merchandise_flags ── Topic: 10\n",
            "     └─■──wan_wave_heat_people_walking ── Topic: 13\n",
            "\n"
          ]
        }
      ],
      "source": [
        "tree = topic_model.get_topic_tree(hierarchical_topics)\n",
        "print(tree)"
      ]
    },
    {
      "cell_type": "markdown",
      "metadata": {
        "id": "IXucS1fVETAU"
      },
      "source": [
        "## **Topic Visualization**"
      ]
    },
    {
      "cell_type": "code",
      "execution_count": 241,
      "metadata": {
        "colab": {
          "base_uri": "https://localhost:8080/",
          "height": 667
        },
        "id": "zcmKO6wCt6cL",
        "outputId": "d4fbc8d5-9584-46b6-af70-f3705d177727"
      },
      "outputs": [
        {
          "data": {
            "application/vnd.plotly.v1+json": {
              "config": {
                "plotlyServerURL": "https://plot.ly"
              },
              "data": [
                {
                  "customdata": [
                    [
                      0,
                      "wind | mph | wain | wash | wine",
                      244
                    ],
                    [
                      1,
                      "troops | army | military | waterloo | soldiers",
                      244
                    ],
                    [
                      2,
                      "pips | total | engineer | cases | reports",
                      236
                    ],
                    [
                      3,
                      "flooding | floods | toll | flood | storms",
                      230
                    ],
                    [
                      4,
                      "west | food | trans | fats | restaurant",
                      210
                    ],
                    [
                      5,
                      "plane | landing | crashes | flight | ship",
                      210
                    ],
                    [
                      6,
                      "warriors | warden | finals | points | quarter",
                      210
                    ],
                    [
                      7,
                      "wormer | president | presidential | announces | web",
                      204
                    ],
                    [
                      8,
                      "coach | sign | striker | deal | head",
                      204
                    ],
                    [
                      9,
                      "shot | police | church | woof | shooting",
                      186
                    ],
                    [
                      10,
                      "flag | wears | wick | merchandise | flags",
                      180
                    ],
                    [
                      11,
                      "wet | wets | banks | hitter | bank",
                      169
                    ],
                    [
                      12,
                      "goals | season | goal | hat | scored",
                      168
                    ],
                    [
                      13,
                      "wan | wave | heat | people | walking",
                      167
                    ],
                    [
                      14,
                      "wee | woody | wings | wax | wad",
                      166
                    ]
                  ],
                  "hovertemplate": "<b>Topic %{customdata[0]}</b><br>Words: %{customdata[1]}<br>Size: %{customdata[2]}",
                  "legendgroup": "",
                  "marker": {
                    "color": "#B0BEC5",
                    "line": {
                      "color": "DarkSlateGrey",
                      "width": 2
                    },
                    "size": [
                      244,
                      244,
                      236,
                      230,
                      210,
                      210,
                      210,
                      204,
                      204,
                      186,
                      180,
                      169,
                      168,
                      167,
                      166
                    ],
                    "sizemode": "area",
                    "sizeref": 0.1525,
                    "symbol": "circle"
                  },
                  "mode": "markers",
                  "name": "",
                  "orientation": "v",
                  "showlegend": false,
                  "type": "scatter",
                  "x": [
                    2.738508939743042,
                    9.868342399597168,
                    -0.6157654523849487,
                    -0.4414229989051819,
                    4.8340983390808105,
                    -0.3617853820323944,
                    4.177791595458984,
                    -0.15739265084266663,
                    5.053275108337402,
                    9.618586540222168,
                    0.12202434241771698,
                    4.760964393615723,
                    3.5398221015930176,
                    0.022898182272911072,
                    3.1953585147857666
                  ],
                  "xaxis": "x",
                  "y": [
                    -1.3124035596847534,
                    -6.566382884979248,
                    12.876182556152344,
                    -1.0979036092758179,
                    -1.6788195371627808,
                    -0.7959778904914856,
                    -0.8931511640548706,
                    13.221443176269531,
                    -1.060917615890503,
                    -6.318399906158447,
                    -0.8638057112693787,
                    -0.9378148913383484,
                    -0.8693332672119141,
                    13.49022388458252,
                    -1.0767266750335693
                  ],
                  "yaxis": "y"
                }
              ],
              "layout": {
                "annotations": [
                  {
                    "showarrow": false,
                    "text": "D1",
                    "x": -0.708130270242691,
                    "y": 3.9812085747718813,
                    "yshift": 10
                  },
                  {
                    "showarrow": false,
                    "text": "D2",
                    "x": 5.320231744647026,
                    "xshift": 10,
                    "y": 15.513757467269897
                  }
                ],
                "height": 650,
                "hoverlabel": {
                  "bgcolor": "white",
                  "font": {
                    "family": "Rockwell",
                    "size": 16
                  }
                },
                "legend": {
                  "itemsizing": "constant",
                  "tracegroupgap": 0
                },
                "margin": {
                  "t": 60
                },
                "shapes": [
                  {
                    "line": {
                      "color": "#CFD8DC",
                      "width": 2
                    },
                    "type": "line",
                    "x0": 5.320231744647026,
                    "x1": 5.320231744647026,
                    "y0": -7.551340317726135,
                    "y1": 15.513757467269897
                  },
                  {
                    "line": {
                      "color": "#9E9E9E",
                      "width": 2
                    },
                    "type": "line",
                    "x0": -0.708130270242691,
                    "x1": 11.348593759536744,
                    "y0": 3.9812085747718813,
                    "y1": 3.9812085747718813
                  }
                ],
                "sliders": [
                  {
                    "active": 0,
                    "pad": {
                      "t": 50
                    },
                    "steps": [
                      {
                        "args": [
                          {
                            "marker.color": [
                              [
                                "red",
                                "#B0BEC5",
                                "#B0BEC5",
                                "#B0BEC5",
                                "#B0BEC5",
                                "#B0BEC5",
                                "#B0BEC5",
                                "#B0BEC5",
                                "#B0BEC5",
                                "#B0BEC5",
                                "#B0BEC5",
                                "#B0BEC5",
                                "#B0BEC5",
                                "#B0BEC5",
                                "#B0BEC5"
                              ]
                            ]
                          }
                        ],
                        "label": "Topic 0",
                        "method": "update"
                      },
                      {
                        "args": [
                          {
                            "marker.color": [
                              [
                                "#B0BEC5",
                                "red",
                                "#B0BEC5",
                                "#B0BEC5",
                                "#B0BEC5",
                                "#B0BEC5",
                                "#B0BEC5",
                                "#B0BEC5",
                                "#B0BEC5",
                                "#B0BEC5",
                                "#B0BEC5",
                                "#B0BEC5",
                                "#B0BEC5",
                                "#B0BEC5",
                                "#B0BEC5"
                              ]
                            ]
                          }
                        ],
                        "label": "Topic 1",
                        "method": "update"
                      },
                      {
                        "args": [
                          {
                            "marker.color": [
                              [
                                "#B0BEC5",
                                "#B0BEC5",
                                "red",
                                "#B0BEC5",
                                "#B0BEC5",
                                "#B0BEC5",
                                "#B0BEC5",
                                "#B0BEC5",
                                "#B0BEC5",
                                "#B0BEC5",
                                "#B0BEC5",
                                "#B0BEC5",
                                "#B0BEC5",
                                "#B0BEC5",
                                "#B0BEC5"
                              ]
                            ]
                          }
                        ],
                        "label": "Topic 2",
                        "method": "update"
                      },
                      {
                        "args": [
                          {
                            "marker.color": [
                              [
                                "#B0BEC5",
                                "#B0BEC5",
                                "#B0BEC5",
                                "red",
                                "#B0BEC5",
                                "#B0BEC5",
                                "#B0BEC5",
                                "#B0BEC5",
                                "#B0BEC5",
                                "#B0BEC5",
                                "#B0BEC5",
                                "#B0BEC5",
                                "#B0BEC5",
                                "#B0BEC5",
                                "#B0BEC5"
                              ]
                            ]
                          }
                        ],
                        "label": "Topic 3",
                        "method": "update"
                      },
                      {
                        "args": [
                          {
                            "marker.color": [
                              [
                                "#B0BEC5",
                                "#B0BEC5",
                                "#B0BEC5",
                                "#B0BEC5",
                                "red",
                                "#B0BEC5",
                                "#B0BEC5",
                                "#B0BEC5",
                                "#B0BEC5",
                                "#B0BEC5",
                                "#B0BEC5",
                                "#B0BEC5",
                                "#B0BEC5",
                                "#B0BEC5",
                                "#B0BEC5"
                              ]
                            ]
                          }
                        ],
                        "label": "Topic 4",
                        "method": "update"
                      },
                      {
                        "args": [
                          {
                            "marker.color": [
                              [
                                "#B0BEC5",
                                "#B0BEC5",
                                "#B0BEC5",
                                "#B0BEC5",
                                "#B0BEC5",
                                "red",
                                "#B0BEC5",
                                "#B0BEC5",
                                "#B0BEC5",
                                "#B0BEC5",
                                "#B0BEC5",
                                "#B0BEC5",
                                "#B0BEC5",
                                "#B0BEC5",
                                "#B0BEC5"
                              ]
                            ]
                          }
                        ],
                        "label": "Topic 5",
                        "method": "update"
                      },
                      {
                        "args": [
                          {
                            "marker.color": [
                              [
                                "#B0BEC5",
                                "#B0BEC5",
                                "#B0BEC5",
                                "#B0BEC5",
                                "#B0BEC5",
                                "#B0BEC5",
                                "red",
                                "#B0BEC5",
                                "#B0BEC5",
                                "#B0BEC5",
                                "#B0BEC5",
                                "#B0BEC5",
                                "#B0BEC5",
                                "#B0BEC5",
                                "#B0BEC5"
                              ]
                            ]
                          }
                        ],
                        "label": "Topic 6",
                        "method": "update"
                      },
                      {
                        "args": [
                          {
                            "marker.color": [
                              [
                                "#B0BEC5",
                                "#B0BEC5",
                                "#B0BEC5",
                                "#B0BEC5",
                                "#B0BEC5",
                                "#B0BEC5",
                                "#B0BEC5",
                                "red",
                                "#B0BEC5",
                                "#B0BEC5",
                                "#B0BEC5",
                                "#B0BEC5",
                                "#B0BEC5",
                                "#B0BEC5",
                                "#B0BEC5"
                              ]
                            ]
                          }
                        ],
                        "label": "Topic 7",
                        "method": "update"
                      },
                      {
                        "args": [
                          {
                            "marker.color": [
                              [
                                "#B0BEC5",
                                "#B0BEC5",
                                "#B0BEC5",
                                "#B0BEC5",
                                "#B0BEC5",
                                "#B0BEC5",
                                "#B0BEC5",
                                "#B0BEC5",
                                "red",
                                "#B0BEC5",
                                "#B0BEC5",
                                "#B0BEC5",
                                "#B0BEC5",
                                "#B0BEC5",
                                "#B0BEC5"
                              ]
                            ]
                          }
                        ],
                        "label": "Topic 8",
                        "method": "update"
                      },
                      {
                        "args": [
                          {
                            "marker.color": [
                              [
                                "#B0BEC5",
                                "#B0BEC5",
                                "#B0BEC5",
                                "#B0BEC5",
                                "#B0BEC5",
                                "#B0BEC5",
                                "#B0BEC5",
                                "#B0BEC5",
                                "#B0BEC5",
                                "red",
                                "#B0BEC5",
                                "#B0BEC5",
                                "#B0BEC5",
                                "#B0BEC5",
                                "#B0BEC5"
                              ]
                            ]
                          }
                        ],
                        "label": "Topic 9",
                        "method": "update"
                      },
                      {
                        "args": [
                          {
                            "marker.color": [
                              [
                                "#B0BEC5",
                                "#B0BEC5",
                                "#B0BEC5",
                                "#B0BEC5",
                                "#B0BEC5",
                                "#B0BEC5",
                                "#B0BEC5",
                                "#B0BEC5",
                                "#B0BEC5",
                                "#B0BEC5",
                                "red",
                                "#B0BEC5",
                                "#B0BEC5",
                                "#B0BEC5",
                                "#B0BEC5"
                              ]
                            ]
                          }
                        ],
                        "label": "Topic 10",
                        "method": "update"
                      },
                      {
                        "args": [
                          {
                            "marker.color": [
                              [
                                "#B0BEC5",
                                "#B0BEC5",
                                "#B0BEC5",
                                "#B0BEC5",
                                "#B0BEC5",
                                "#B0BEC5",
                                "#B0BEC5",
                                "#B0BEC5",
                                "#B0BEC5",
                                "#B0BEC5",
                                "#B0BEC5",
                                "red",
                                "#B0BEC5",
                                "#B0BEC5",
                                "#B0BEC5"
                              ]
                            ]
                          }
                        ],
                        "label": "Topic 11",
                        "method": "update"
                      },
                      {
                        "args": [
                          {
                            "marker.color": [
                              [
                                "#B0BEC5",
                                "#B0BEC5",
                                "#B0BEC5",
                                "#B0BEC5",
                                "#B0BEC5",
                                "#B0BEC5",
                                "#B0BEC5",
                                "#B0BEC5",
                                "#B0BEC5",
                                "#B0BEC5",
                                "#B0BEC5",
                                "#B0BEC5",
                                "red",
                                "#B0BEC5",
                                "#B0BEC5"
                              ]
                            ]
                          }
                        ],
                        "label": "Topic 12",
                        "method": "update"
                      },
                      {
                        "args": [
                          {
                            "marker.color": [
                              [
                                "#B0BEC5",
                                "#B0BEC5",
                                "#B0BEC5",
                                "#B0BEC5",
                                "#B0BEC5",
                                "#B0BEC5",
                                "#B0BEC5",
                                "#B0BEC5",
                                "#B0BEC5",
                                "#B0BEC5",
                                "#B0BEC5",
                                "#B0BEC5",
                                "#B0BEC5",
                                "red",
                                "#B0BEC5"
                              ]
                            ]
                          }
                        ],
                        "label": "Topic 13",
                        "method": "update"
                      },
                      {
                        "args": [
                          {
                            "marker.color": [
                              [
                                "#B0BEC5",
                                "#B0BEC5",
                                "#B0BEC5",
                                "#B0BEC5",
                                "#B0BEC5",
                                "#B0BEC5",
                                "#B0BEC5",
                                "#B0BEC5",
                                "#B0BEC5",
                                "#B0BEC5",
                                "#B0BEC5",
                                "#B0BEC5",
                                "#B0BEC5",
                                "#B0BEC5",
                                "red"
                              ]
                            ]
                          }
                        ],
                        "label": "Topic 14",
                        "method": "update"
                      }
                    ]
                  }
                ],
                "template": {
                  "data": {
                    "bar": [
                      {
                        "error_x": {
                          "color": "rgb(36,36,36)"
                        },
                        "error_y": {
                          "color": "rgb(36,36,36)"
                        },
                        "marker": {
                          "line": {
                            "color": "white",
                            "width": 0.5
                          },
                          "pattern": {
                            "fillmode": "overlay",
                            "size": 10,
                            "solidity": 0.2
                          }
                        },
                        "type": "bar"
                      }
                    ],
                    "barpolar": [
                      {
                        "marker": {
                          "line": {
                            "color": "white",
                            "width": 0.5
                          },
                          "pattern": {
                            "fillmode": "overlay",
                            "size": 10,
                            "solidity": 0.2
                          }
                        },
                        "type": "barpolar"
                      }
                    ],
                    "carpet": [
                      {
                        "aaxis": {
                          "endlinecolor": "rgb(36,36,36)",
                          "gridcolor": "white",
                          "linecolor": "white",
                          "minorgridcolor": "white",
                          "startlinecolor": "rgb(36,36,36)"
                        },
                        "baxis": {
                          "endlinecolor": "rgb(36,36,36)",
                          "gridcolor": "white",
                          "linecolor": "white",
                          "minorgridcolor": "white",
                          "startlinecolor": "rgb(36,36,36)"
                        },
                        "type": "carpet"
                      }
                    ],
                    "choropleth": [
                      {
                        "colorbar": {
                          "outlinewidth": 1,
                          "tickcolor": "rgb(36,36,36)",
                          "ticks": "outside"
                        },
                        "type": "choropleth"
                      }
                    ],
                    "contour": [
                      {
                        "colorbar": {
                          "outlinewidth": 1,
                          "tickcolor": "rgb(36,36,36)",
                          "ticks": "outside"
                        },
                        "colorscale": [
                          [
                            0,
                            "#440154"
                          ],
                          [
                            0.1111111111111111,
                            "#482878"
                          ],
                          [
                            0.2222222222222222,
                            "#3e4989"
                          ],
                          [
                            0.3333333333333333,
                            "#31688e"
                          ],
                          [
                            0.4444444444444444,
                            "#26828e"
                          ],
                          [
                            0.5555555555555556,
                            "#1f9e89"
                          ],
                          [
                            0.6666666666666666,
                            "#35b779"
                          ],
                          [
                            0.7777777777777778,
                            "#6ece58"
                          ],
                          [
                            0.8888888888888888,
                            "#b5de2b"
                          ],
                          [
                            1,
                            "#fde725"
                          ]
                        ],
                        "type": "contour"
                      }
                    ],
                    "contourcarpet": [
                      {
                        "colorbar": {
                          "outlinewidth": 1,
                          "tickcolor": "rgb(36,36,36)",
                          "ticks": "outside"
                        },
                        "type": "contourcarpet"
                      }
                    ],
                    "heatmap": [
                      {
                        "colorbar": {
                          "outlinewidth": 1,
                          "tickcolor": "rgb(36,36,36)",
                          "ticks": "outside"
                        },
                        "colorscale": [
                          [
                            0,
                            "#440154"
                          ],
                          [
                            0.1111111111111111,
                            "#482878"
                          ],
                          [
                            0.2222222222222222,
                            "#3e4989"
                          ],
                          [
                            0.3333333333333333,
                            "#31688e"
                          ],
                          [
                            0.4444444444444444,
                            "#26828e"
                          ],
                          [
                            0.5555555555555556,
                            "#1f9e89"
                          ],
                          [
                            0.6666666666666666,
                            "#35b779"
                          ],
                          [
                            0.7777777777777778,
                            "#6ece58"
                          ],
                          [
                            0.8888888888888888,
                            "#b5de2b"
                          ],
                          [
                            1,
                            "#fde725"
                          ]
                        ],
                        "type": "heatmap"
                      }
                    ],
                    "heatmapgl": [
                      {
                        "colorbar": {
                          "outlinewidth": 1,
                          "tickcolor": "rgb(36,36,36)",
                          "ticks": "outside"
                        },
                        "colorscale": [
                          [
                            0,
                            "#440154"
                          ],
                          [
                            0.1111111111111111,
                            "#482878"
                          ],
                          [
                            0.2222222222222222,
                            "#3e4989"
                          ],
                          [
                            0.3333333333333333,
                            "#31688e"
                          ],
                          [
                            0.4444444444444444,
                            "#26828e"
                          ],
                          [
                            0.5555555555555556,
                            "#1f9e89"
                          ],
                          [
                            0.6666666666666666,
                            "#35b779"
                          ],
                          [
                            0.7777777777777778,
                            "#6ece58"
                          ],
                          [
                            0.8888888888888888,
                            "#b5de2b"
                          ],
                          [
                            1,
                            "#fde725"
                          ]
                        ],
                        "type": "heatmapgl"
                      }
                    ],
                    "histogram": [
                      {
                        "marker": {
                          "line": {
                            "color": "white",
                            "width": 0.6
                          }
                        },
                        "type": "histogram"
                      }
                    ],
                    "histogram2d": [
                      {
                        "colorbar": {
                          "outlinewidth": 1,
                          "tickcolor": "rgb(36,36,36)",
                          "ticks": "outside"
                        },
                        "colorscale": [
                          [
                            0,
                            "#440154"
                          ],
                          [
                            0.1111111111111111,
                            "#482878"
                          ],
                          [
                            0.2222222222222222,
                            "#3e4989"
                          ],
                          [
                            0.3333333333333333,
                            "#31688e"
                          ],
                          [
                            0.4444444444444444,
                            "#26828e"
                          ],
                          [
                            0.5555555555555556,
                            "#1f9e89"
                          ],
                          [
                            0.6666666666666666,
                            "#35b779"
                          ],
                          [
                            0.7777777777777778,
                            "#6ece58"
                          ],
                          [
                            0.8888888888888888,
                            "#b5de2b"
                          ],
                          [
                            1,
                            "#fde725"
                          ]
                        ],
                        "type": "histogram2d"
                      }
                    ],
                    "histogram2dcontour": [
                      {
                        "colorbar": {
                          "outlinewidth": 1,
                          "tickcolor": "rgb(36,36,36)",
                          "ticks": "outside"
                        },
                        "colorscale": [
                          [
                            0,
                            "#440154"
                          ],
                          [
                            0.1111111111111111,
                            "#482878"
                          ],
                          [
                            0.2222222222222222,
                            "#3e4989"
                          ],
                          [
                            0.3333333333333333,
                            "#31688e"
                          ],
                          [
                            0.4444444444444444,
                            "#26828e"
                          ],
                          [
                            0.5555555555555556,
                            "#1f9e89"
                          ],
                          [
                            0.6666666666666666,
                            "#35b779"
                          ],
                          [
                            0.7777777777777778,
                            "#6ece58"
                          ],
                          [
                            0.8888888888888888,
                            "#b5de2b"
                          ],
                          [
                            1,
                            "#fde725"
                          ]
                        ],
                        "type": "histogram2dcontour"
                      }
                    ],
                    "mesh3d": [
                      {
                        "colorbar": {
                          "outlinewidth": 1,
                          "tickcolor": "rgb(36,36,36)",
                          "ticks": "outside"
                        },
                        "type": "mesh3d"
                      }
                    ],
                    "parcoords": [
                      {
                        "line": {
                          "colorbar": {
                            "outlinewidth": 1,
                            "tickcolor": "rgb(36,36,36)",
                            "ticks": "outside"
                          }
                        },
                        "type": "parcoords"
                      }
                    ],
                    "pie": [
                      {
                        "automargin": true,
                        "type": "pie"
                      }
                    ],
                    "scatter": [
                      {
                        "marker": {
                          "colorbar": {
                            "outlinewidth": 1,
                            "tickcolor": "rgb(36,36,36)",
                            "ticks": "outside"
                          }
                        },
                        "type": "scatter"
                      }
                    ],
                    "scatter3d": [
                      {
                        "line": {
                          "colorbar": {
                            "outlinewidth": 1,
                            "tickcolor": "rgb(36,36,36)",
                            "ticks": "outside"
                          }
                        },
                        "marker": {
                          "colorbar": {
                            "outlinewidth": 1,
                            "tickcolor": "rgb(36,36,36)",
                            "ticks": "outside"
                          }
                        },
                        "type": "scatter3d"
                      }
                    ],
                    "scattercarpet": [
                      {
                        "marker": {
                          "colorbar": {
                            "outlinewidth": 1,
                            "tickcolor": "rgb(36,36,36)",
                            "ticks": "outside"
                          }
                        },
                        "type": "scattercarpet"
                      }
                    ],
                    "scattergeo": [
                      {
                        "marker": {
                          "colorbar": {
                            "outlinewidth": 1,
                            "tickcolor": "rgb(36,36,36)",
                            "ticks": "outside"
                          }
                        },
                        "type": "scattergeo"
                      }
                    ],
                    "scattergl": [
                      {
                        "marker": {
                          "colorbar": {
                            "outlinewidth": 1,
                            "tickcolor": "rgb(36,36,36)",
                            "ticks": "outside"
                          }
                        },
                        "type": "scattergl"
                      }
                    ],
                    "scattermapbox": [
                      {
                        "marker": {
                          "colorbar": {
                            "outlinewidth": 1,
                            "tickcolor": "rgb(36,36,36)",
                            "ticks": "outside"
                          }
                        },
                        "type": "scattermapbox"
                      }
                    ],
                    "scatterpolar": [
                      {
                        "marker": {
                          "colorbar": {
                            "outlinewidth": 1,
                            "tickcolor": "rgb(36,36,36)",
                            "ticks": "outside"
                          }
                        },
                        "type": "scatterpolar"
                      }
                    ],
                    "scatterpolargl": [
                      {
                        "marker": {
                          "colorbar": {
                            "outlinewidth": 1,
                            "tickcolor": "rgb(36,36,36)",
                            "ticks": "outside"
                          }
                        },
                        "type": "scatterpolargl"
                      }
                    ],
                    "scatterternary": [
                      {
                        "marker": {
                          "colorbar": {
                            "outlinewidth": 1,
                            "tickcolor": "rgb(36,36,36)",
                            "ticks": "outside"
                          }
                        },
                        "type": "scatterternary"
                      }
                    ],
                    "surface": [
                      {
                        "colorbar": {
                          "outlinewidth": 1,
                          "tickcolor": "rgb(36,36,36)",
                          "ticks": "outside"
                        },
                        "colorscale": [
                          [
                            0,
                            "#440154"
                          ],
                          [
                            0.1111111111111111,
                            "#482878"
                          ],
                          [
                            0.2222222222222222,
                            "#3e4989"
                          ],
                          [
                            0.3333333333333333,
                            "#31688e"
                          ],
                          [
                            0.4444444444444444,
                            "#26828e"
                          ],
                          [
                            0.5555555555555556,
                            "#1f9e89"
                          ],
                          [
                            0.6666666666666666,
                            "#35b779"
                          ],
                          [
                            0.7777777777777778,
                            "#6ece58"
                          ],
                          [
                            0.8888888888888888,
                            "#b5de2b"
                          ],
                          [
                            1,
                            "#fde725"
                          ]
                        ],
                        "type": "surface"
                      }
                    ],
                    "table": [
                      {
                        "cells": {
                          "fill": {
                            "color": "rgb(237,237,237)"
                          },
                          "line": {
                            "color": "white"
                          }
                        },
                        "header": {
                          "fill": {
                            "color": "rgb(217,217,217)"
                          },
                          "line": {
                            "color": "white"
                          }
                        },
                        "type": "table"
                      }
                    ]
                  },
                  "layout": {
                    "annotationdefaults": {
                      "arrowhead": 0,
                      "arrowwidth": 1
                    },
                    "autotypenumbers": "strict",
                    "coloraxis": {
                      "colorbar": {
                        "outlinewidth": 1,
                        "tickcolor": "rgb(36,36,36)",
                        "ticks": "outside"
                      }
                    },
                    "colorscale": {
                      "diverging": [
                        [
                          0,
                          "rgb(103,0,31)"
                        ],
                        [
                          0.1,
                          "rgb(178,24,43)"
                        ],
                        [
                          0.2,
                          "rgb(214,96,77)"
                        ],
                        [
                          0.3,
                          "rgb(244,165,130)"
                        ],
                        [
                          0.4,
                          "rgb(253,219,199)"
                        ],
                        [
                          0.5,
                          "rgb(247,247,247)"
                        ],
                        [
                          0.6,
                          "rgb(209,229,240)"
                        ],
                        [
                          0.7,
                          "rgb(146,197,222)"
                        ],
                        [
                          0.8,
                          "rgb(67,147,195)"
                        ],
                        [
                          0.9,
                          "rgb(33,102,172)"
                        ],
                        [
                          1,
                          "rgb(5,48,97)"
                        ]
                      ],
                      "sequential": [
                        [
                          0,
                          "#440154"
                        ],
                        [
                          0.1111111111111111,
                          "#482878"
                        ],
                        [
                          0.2222222222222222,
                          "#3e4989"
                        ],
                        [
                          0.3333333333333333,
                          "#31688e"
                        ],
                        [
                          0.4444444444444444,
                          "#26828e"
                        ],
                        [
                          0.5555555555555556,
                          "#1f9e89"
                        ],
                        [
                          0.6666666666666666,
                          "#35b779"
                        ],
                        [
                          0.7777777777777778,
                          "#6ece58"
                        ],
                        [
                          0.8888888888888888,
                          "#b5de2b"
                        ],
                        [
                          1,
                          "#fde725"
                        ]
                      ],
                      "sequentialminus": [
                        [
                          0,
                          "#440154"
                        ],
                        [
                          0.1111111111111111,
                          "#482878"
                        ],
                        [
                          0.2222222222222222,
                          "#3e4989"
                        ],
                        [
                          0.3333333333333333,
                          "#31688e"
                        ],
                        [
                          0.4444444444444444,
                          "#26828e"
                        ],
                        [
                          0.5555555555555556,
                          "#1f9e89"
                        ],
                        [
                          0.6666666666666666,
                          "#35b779"
                        ],
                        [
                          0.7777777777777778,
                          "#6ece58"
                        ],
                        [
                          0.8888888888888888,
                          "#b5de2b"
                        ],
                        [
                          1,
                          "#fde725"
                        ]
                      ]
                    },
                    "colorway": [
                      "#1F77B4",
                      "#FF7F0E",
                      "#2CA02C",
                      "#D62728",
                      "#9467BD",
                      "#8C564B",
                      "#E377C2",
                      "#7F7F7F",
                      "#BCBD22",
                      "#17BECF"
                    ],
                    "font": {
                      "color": "rgb(36,36,36)"
                    },
                    "geo": {
                      "bgcolor": "white",
                      "lakecolor": "white",
                      "landcolor": "white",
                      "showlakes": true,
                      "showland": true,
                      "subunitcolor": "white"
                    },
                    "hoverlabel": {
                      "align": "left"
                    },
                    "hovermode": "closest",
                    "mapbox": {
                      "style": "light"
                    },
                    "paper_bgcolor": "white",
                    "plot_bgcolor": "white",
                    "polar": {
                      "angularaxis": {
                        "gridcolor": "rgb(232,232,232)",
                        "linecolor": "rgb(36,36,36)",
                        "showgrid": false,
                        "showline": true,
                        "ticks": "outside"
                      },
                      "bgcolor": "white",
                      "radialaxis": {
                        "gridcolor": "rgb(232,232,232)",
                        "linecolor": "rgb(36,36,36)",
                        "showgrid": false,
                        "showline": true,
                        "ticks": "outside"
                      }
                    },
                    "scene": {
                      "xaxis": {
                        "backgroundcolor": "white",
                        "gridcolor": "rgb(232,232,232)",
                        "gridwidth": 2,
                        "linecolor": "rgb(36,36,36)",
                        "showbackground": true,
                        "showgrid": false,
                        "showline": true,
                        "ticks": "outside",
                        "zeroline": false,
                        "zerolinecolor": "rgb(36,36,36)"
                      },
                      "yaxis": {
                        "backgroundcolor": "white",
                        "gridcolor": "rgb(232,232,232)",
                        "gridwidth": 2,
                        "linecolor": "rgb(36,36,36)",
                        "showbackground": true,
                        "showgrid": false,
                        "showline": true,
                        "ticks": "outside",
                        "zeroline": false,
                        "zerolinecolor": "rgb(36,36,36)"
                      },
                      "zaxis": {
                        "backgroundcolor": "white",
                        "gridcolor": "rgb(232,232,232)",
                        "gridwidth": 2,
                        "linecolor": "rgb(36,36,36)",
                        "showbackground": true,
                        "showgrid": false,
                        "showline": true,
                        "ticks": "outside",
                        "zeroline": false,
                        "zerolinecolor": "rgb(36,36,36)"
                      }
                    },
                    "shapedefaults": {
                      "fillcolor": "black",
                      "line": {
                        "width": 0
                      },
                      "opacity": 0.3
                    },
                    "ternary": {
                      "aaxis": {
                        "gridcolor": "rgb(232,232,232)",
                        "linecolor": "rgb(36,36,36)",
                        "showgrid": false,
                        "showline": true,
                        "ticks": "outside"
                      },
                      "baxis": {
                        "gridcolor": "rgb(232,232,232)",
                        "linecolor": "rgb(36,36,36)",
                        "showgrid": false,
                        "showline": true,
                        "ticks": "outside"
                      },
                      "bgcolor": "white",
                      "caxis": {
                        "gridcolor": "rgb(232,232,232)",
                        "linecolor": "rgb(36,36,36)",
                        "showgrid": false,
                        "showline": true,
                        "ticks": "outside"
                      }
                    },
                    "title": {
                      "x": 0.05
                    },
                    "xaxis": {
                      "automargin": true,
                      "gridcolor": "rgb(232,232,232)",
                      "linecolor": "rgb(36,36,36)",
                      "showgrid": false,
                      "showline": true,
                      "ticks": "outside",
                      "title": {
                        "standoff": 15
                      },
                      "zeroline": false,
                      "zerolinecolor": "rgb(36,36,36)"
                    },
                    "yaxis": {
                      "automargin": true,
                      "gridcolor": "rgb(232,232,232)",
                      "linecolor": "rgb(36,36,36)",
                      "showgrid": false,
                      "showline": true,
                      "ticks": "outside",
                      "title": {
                        "standoff": 15
                      },
                      "zeroline": false,
                      "zerolinecolor": "rgb(36,36,36)"
                    }
                  }
                },
                "title": {
                  "font": {
                    "color": "Black",
                    "size": 22
                  },
                  "text": "<b>Intertopic Distance Map",
                  "x": 0.5,
                  "xanchor": "center",
                  "y": 0.95,
                  "yanchor": "top"
                },
                "width": 650,
                "xaxis": {
                  "anchor": "y",
                  "domain": [
                    0,
                    1
                  ],
                  "range": [
                    -0.708130270242691,
                    11.348593759536744
                  ],
                  "title": {
                    "text": ""
                  },
                  "visible": false
                },
                "yaxis": {
                  "anchor": "x",
                  "domain": [
                    0,
                    1
                  ],
                  "range": [
                    -7.551340317726135,
                    15.513757467269897
                  ],
                  "title": {
                    "text": ""
                  },
                  "visible": false
                }
              }
            }
          },
          "metadata": {},
          "output_type": "display_data"
        }
      ],
      "source": [
        "topic_model.visualize_topics()"
      ]
    },
    {
      "cell_type": "markdown",
      "metadata": {
        "id": "MMYb_AUbEZZE"
      },
      "source": [
        "# **Hierarchy Visualization**"
      ]
    },
    {
      "cell_type": "code",
      "execution_count": 242,
      "metadata": {
        "colab": {
          "base_uri": "https://localhost:8080/",
          "height": 617
        },
        "id": "ZOLmeP9bCr4J",
        "outputId": "7247e602-e0c2-4ee4-d6db-38285824d861"
      },
      "outputs": [
        {
          "data": {
            "application/vnd.plotly.v1+json": {
              "config": {
                "plotlyServerURL": "https://plot.ly"
              },
              "data": [
                {
                  "hoverinfo": "text",
                  "marker": {
                    "color": "rgb(0,116,217)"
                  },
                  "mode": "lines",
                  "type": "scatter",
                  "x": [
                    0,
                    1.2082770844314592,
                    1.2082770844314592,
                    0
                  ],
                  "xaxis": "x",
                  "y": [
                    -5,
                    -5,
                    -15,
                    -15
                  ],
                  "yaxis": "y"
                },
                {
                  "hoverinfo": "text",
                  "marker": {
                    "color": "rgb(0,116,217)"
                  },
                  "mode": "lines",
                  "type": "scatter",
                  "x": [
                    0,
                    1.342720234491057,
                    1.342720234491057,
                    0
                  ],
                  "xaxis": "x",
                  "y": [
                    -35,
                    -35,
                    -45,
                    -45
                  ],
                  "yaxis": "y"
                },
                {
                  "hoverinfo": "text",
                  "marker": {
                    "color": "rgb(0,116,217)"
                  },
                  "mode": "lines",
                  "type": "scatter",
                  "x": [
                    0,
                    1.336803906573202,
                    1.336803906573202,
                    0
                  ],
                  "xaxis": "x",
                  "y": [
                    -55,
                    -55,
                    -65,
                    -65
                  ],
                  "yaxis": "y"
                },
                {
                  "hoverinfo": "text",
                  "marker": {
                    "color": "rgb(0,116,217)"
                  },
                  "mode": "lines",
                  "type": "scatter",
                  "x": [
                    1.342720234491057,
                    1.3748974956090385,
                    1.3748974956090385,
                    1.336803906573202
                  ],
                  "xaxis": "x",
                  "y": [
                    -40,
                    -40,
                    -60,
                    -60
                  ],
                  "yaxis": "y"
                },
                {
                  "hoverinfo": "text",
                  "marker": {
                    "color": "rgb(0,116,217)"
                  },
                  "mode": "lines",
                  "type": "scatter",
                  "x": [
                    0,
                    1.3501513957296263,
                    1.3501513957296263,
                    0
                  ],
                  "xaxis": "x",
                  "y": [
                    -75,
                    -75,
                    -85,
                    -85
                  ],
                  "yaxis": "y"
                },
                {
                  "hoverinfo": "text",
                  "marker": {
                    "color": "rgb(0,116,217)"
                  },
                  "mode": "lines",
                  "type": "scatter",
                  "x": [
                    1.3748974956090385,
                    1.3866850351755142,
                    1.3866850351755142,
                    1.3501513957296263
                  ],
                  "xaxis": "x",
                  "y": [
                    -50,
                    -50,
                    -80,
                    -80
                  ],
                  "yaxis": "y"
                },
                {
                  "hoverinfo": "text",
                  "marker": {
                    "color": "rgb(0,116,217)"
                  },
                  "mode": "lines",
                  "type": "scatter",
                  "x": [
                    0,
                    1.4229318900049852,
                    1.4229318900049852,
                    1.3866850351755142
                  ],
                  "xaxis": "x",
                  "y": [
                    -25,
                    -25,
                    -65,
                    -65
                  ],
                  "yaxis": "y"
                },
                {
                  "hoverinfo": "text",
                  "marker": {
                    "color": "rgb(0,116,217)"
                  },
                  "mode": "lines",
                  "type": "scatter",
                  "x": [
                    0,
                    1.3445941682878355,
                    1.3445941682878355,
                    0
                  ],
                  "xaxis": "x",
                  "y": [
                    -95,
                    -95,
                    -105,
                    -105
                  ],
                  "yaxis": "y"
                },
                {
                  "hoverinfo": "text",
                  "marker": {
                    "color": "rgb(0,116,217)"
                  },
                  "mode": "lines",
                  "type": "scatter",
                  "x": [
                    0,
                    1.3298229329253883,
                    1.3298229329253883,
                    0
                  ],
                  "xaxis": "x",
                  "y": [
                    -115,
                    -115,
                    -125,
                    -125
                  ],
                  "yaxis": "y"
                },
                {
                  "hoverinfo": "text",
                  "marker": {
                    "color": "rgb(0,116,217)"
                  },
                  "mode": "lines",
                  "type": "scatter",
                  "x": [
                    1.3445941682878355,
                    1.3892153901076318,
                    1.3892153901076318,
                    1.3298229329253883
                  ],
                  "xaxis": "x",
                  "y": [
                    -100,
                    -100,
                    -120,
                    -120
                  ],
                  "yaxis": "y"
                },
                {
                  "hoverinfo": "text",
                  "marker": {
                    "color": "rgb(0,116,217)"
                  },
                  "mode": "lines",
                  "type": "scatter",
                  "x": [
                    0,
                    1.2902509440915853,
                    1.2902509440915853,
                    0
                  ],
                  "xaxis": "x",
                  "y": [
                    -135,
                    -135,
                    -145,
                    -145
                  ],
                  "yaxis": "y"
                },
                {
                  "hoverinfo": "text",
                  "marker": {
                    "color": "rgb(0,116,217)"
                  },
                  "mode": "lines",
                  "type": "scatter",
                  "x": [
                    1.3892153901076318,
                    1.3996116841530768,
                    1.3996116841530768,
                    1.2902509440915853
                  ],
                  "xaxis": "x",
                  "y": [
                    -110,
                    -110,
                    -140,
                    -140
                  ],
                  "yaxis": "y"
                },
                {
                  "hoverinfo": "text",
                  "marker": {
                    "color": "rgb(0,116,217)"
                  },
                  "mode": "lines",
                  "type": "scatter",
                  "x": [
                    1.4229318900049852,
                    1.4776495428267447,
                    1.4776495428267447,
                    1.3996116841530768
                  ],
                  "xaxis": "x",
                  "y": [
                    -45,
                    -45,
                    -125,
                    -125
                  ],
                  "yaxis": "y"
                },
                {
                  "hoverinfo": "text",
                  "marker": {
                    "color": "rgb(0,116,217)"
                  },
                  "mode": "lines",
                  "type": "scatter",
                  "x": [
                    1.2082770844314592,
                    1.5292659791867018,
                    1.5292659791867018,
                    1.4776495428267447
                  ],
                  "xaxis": "x",
                  "y": [
                    -10,
                    -10,
                    -85,
                    -85
                  ],
                  "yaxis": "y"
                }
              ],
              "layout": {
                "autosize": false,
                "height": 425,
                "hoverlabel": {
                  "bgcolor": "white",
                  "font": {
                    "family": "Rockwell",
                    "size": 16
                  }
                },
                "hovermode": "closest",
                "plot_bgcolor": "#ECEFF1",
                "showlegend": false,
                "template": {
                  "data": {
                    "bar": [
                      {
                        "error_x": {
                          "color": "#2a3f5f"
                        },
                        "error_y": {
                          "color": "#2a3f5f"
                        },
                        "marker": {
                          "line": {
                            "color": "white",
                            "width": 0.5
                          },
                          "pattern": {
                            "fillmode": "overlay",
                            "size": 10,
                            "solidity": 0.2
                          }
                        },
                        "type": "bar"
                      }
                    ],
                    "barpolar": [
                      {
                        "marker": {
                          "line": {
                            "color": "white",
                            "width": 0.5
                          },
                          "pattern": {
                            "fillmode": "overlay",
                            "size": 10,
                            "solidity": 0.2
                          }
                        },
                        "type": "barpolar"
                      }
                    ],
                    "carpet": [
                      {
                        "aaxis": {
                          "endlinecolor": "#2a3f5f",
                          "gridcolor": "#C8D4E3",
                          "linecolor": "#C8D4E3",
                          "minorgridcolor": "#C8D4E3",
                          "startlinecolor": "#2a3f5f"
                        },
                        "baxis": {
                          "endlinecolor": "#2a3f5f",
                          "gridcolor": "#C8D4E3",
                          "linecolor": "#C8D4E3",
                          "minorgridcolor": "#C8D4E3",
                          "startlinecolor": "#2a3f5f"
                        },
                        "type": "carpet"
                      }
                    ],
                    "choropleth": [
                      {
                        "colorbar": {
                          "outlinewidth": 0,
                          "ticks": ""
                        },
                        "type": "choropleth"
                      }
                    ],
                    "contour": [
                      {
                        "colorbar": {
                          "outlinewidth": 0,
                          "ticks": ""
                        },
                        "colorscale": [
                          [
                            0,
                            "#0d0887"
                          ],
                          [
                            0.1111111111111111,
                            "#46039f"
                          ],
                          [
                            0.2222222222222222,
                            "#7201a8"
                          ],
                          [
                            0.3333333333333333,
                            "#9c179e"
                          ],
                          [
                            0.4444444444444444,
                            "#bd3786"
                          ],
                          [
                            0.5555555555555556,
                            "#d8576b"
                          ],
                          [
                            0.6666666666666666,
                            "#ed7953"
                          ],
                          [
                            0.7777777777777778,
                            "#fb9f3a"
                          ],
                          [
                            0.8888888888888888,
                            "#fdca26"
                          ],
                          [
                            1,
                            "#f0f921"
                          ]
                        ],
                        "type": "contour"
                      }
                    ],
                    "contourcarpet": [
                      {
                        "colorbar": {
                          "outlinewidth": 0,
                          "ticks": ""
                        },
                        "type": "contourcarpet"
                      }
                    ],
                    "heatmap": [
                      {
                        "colorbar": {
                          "outlinewidth": 0,
                          "ticks": ""
                        },
                        "colorscale": [
                          [
                            0,
                            "#0d0887"
                          ],
                          [
                            0.1111111111111111,
                            "#46039f"
                          ],
                          [
                            0.2222222222222222,
                            "#7201a8"
                          ],
                          [
                            0.3333333333333333,
                            "#9c179e"
                          ],
                          [
                            0.4444444444444444,
                            "#bd3786"
                          ],
                          [
                            0.5555555555555556,
                            "#d8576b"
                          ],
                          [
                            0.6666666666666666,
                            "#ed7953"
                          ],
                          [
                            0.7777777777777778,
                            "#fb9f3a"
                          ],
                          [
                            0.8888888888888888,
                            "#fdca26"
                          ],
                          [
                            1,
                            "#f0f921"
                          ]
                        ],
                        "type": "heatmap"
                      }
                    ],
                    "heatmapgl": [
                      {
                        "colorbar": {
                          "outlinewidth": 0,
                          "ticks": ""
                        },
                        "colorscale": [
                          [
                            0,
                            "#0d0887"
                          ],
                          [
                            0.1111111111111111,
                            "#46039f"
                          ],
                          [
                            0.2222222222222222,
                            "#7201a8"
                          ],
                          [
                            0.3333333333333333,
                            "#9c179e"
                          ],
                          [
                            0.4444444444444444,
                            "#bd3786"
                          ],
                          [
                            0.5555555555555556,
                            "#d8576b"
                          ],
                          [
                            0.6666666666666666,
                            "#ed7953"
                          ],
                          [
                            0.7777777777777778,
                            "#fb9f3a"
                          ],
                          [
                            0.8888888888888888,
                            "#fdca26"
                          ],
                          [
                            1,
                            "#f0f921"
                          ]
                        ],
                        "type": "heatmapgl"
                      }
                    ],
                    "histogram": [
                      {
                        "marker": {
                          "pattern": {
                            "fillmode": "overlay",
                            "size": 10,
                            "solidity": 0.2
                          }
                        },
                        "type": "histogram"
                      }
                    ],
                    "histogram2d": [
                      {
                        "colorbar": {
                          "outlinewidth": 0,
                          "ticks": ""
                        },
                        "colorscale": [
                          [
                            0,
                            "#0d0887"
                          ],
                          [
                            0.1111111111111111,
                            "#46039f"
                          ],
                          [
                            0.2222222222222222,
                            "#7201a8"
                          ],
                          [
                            0.3333333333333333,
                            "#9c179e"
                          ],
                          [
                            0.4444444444444444,
                            "#bd3786"
                          ],
                          [
                            0.5555555555555556,
                            "#d8576b"
                          ],
                          [
                            0.6666666666666666,
                            "#ed7953"
                          ],
                          [
                            0.7777777777777778,
                            "#fb9f3a"
                          ],
                          [
                            0.8888888888888888,
                            "#fdca26"
                          ],
                          [
                            1,
                            "#f0f921"
                          ]
                        ],
                        "type": "histogram2d"
                      }
                    ],
                    "histogram2dcontour": [
                      {
                        "colorbar": {
                          "outlinewidth": 0,
                          "ticks": ""
                        },
                        "colorscale": [
                          [
                            0,
                            "#0d0887"
                          ],
                          [
                            0.1111111111111111,
                            "#46039f"
                          ],
                          [
                            0.2222222222222222,
                            "#7201a8"
                          ],
                          [
                            0.3333333333333333,
                            "#9c179e"
                          ],
                          [
                            0.4444444444444444,
                            "#bd3786"
                          ],
                          [
                            0.5555555555555556,
                            "#d8576b"
                          ],
                          [
                            0.6666666666666666,
                            "#ed7953"
                          ],
                          [
                            0.7777777777777778,
                            "#fb9f3a"
                          ],
                          [
                            0.8888888888888888,
                            "#fdca26"
                          ],
                          [
                            1,
                            "#f0f921"
                          ]
                        ],
                        "type": "histogram2dcontour"
                      }
                    ],
                    "mesh3d": [
                      {
                        "colorbar": {
                          "outlinewidth": 0,
                          "ticks": ""
                        },
                        "type": "mesh3d"
                      }
                    ],
                    "parcoords": [
                      {
                        "line": {
                          "colorbar": {
                            "outlinewidth": 0,
                            "ticks": ""
                          }
                        },
                        "type": "parcoords"
                      }
                    ],
                    "pie": [
                      {
                        "automargin": true,
                        "type": "pie"
                      }
                    ],
                    "scatter": [
                      {
                        "marker": {
                          "colorbar": {
                            "outlinewidth": 0,
                            "ticks": ""
                          }
                        },
                        "type": "scatter"
                      }
                    ],
                    "scatter3d": [
                      {
                        "line": {
                          "colorbar": {
                            "outlinewidth": 0,
                            "ticks": ""
                          }
                        },
                        "marker": {
                          "colorbar": {
                            "outlinewidth": 0,
                            "ticks": ""
                          }
                        },
                        "type": "scatter3d"
                      }
                    ],
                    "scattercarpet": [
                      {
                        "marker": {
                          "colorbar": {
                            "outlinewidth": 0,
                            "ticks": ""
                          }
                        },
                        "type": "scattercarpet"
                      }
                    ],
                    "scattergeo": [
                      {
                        "marker": {
                          "colorbar": {
                            "outlinewidth": 0,
                            "ticks": ""
                          }
                        },
                        "type": "scattergeo"
                      }
                    ],
                    "scattergl": [
                      {
                        "marker": {
                          "colorbar": {
                            "outlinewidth": 0,
                            "ticks": ""
                          }
                        },
                        "type": "scattergl"
                      }
                    ],
                    "scattermapbox": [
                      {
                        "marker": {
                          "colorbar": {
                            "outlinewidth": 0,
                            "ticks": ""
                          }
                        },
                        "type": "scattermapbox"
                      }
                    ],
                    "scatterpolar": [
                      {
                        "marker": {
                          "colorbar": {
                            "outlinewidth": 0,
                            "ticks": ""
                          }
                        },
                        "type": "scatterpolar"
                      }
                    ],
                    "scatterpolargl": [
                      {
                        "marker": {
                          "colorbar": {
                            "outlinewidth": 0,
                            "ticks": ""
                          }
                        },
                        "type": "scatterpolargl"
                      }
                    ],
                    "scatterternary": [
                      {
                        "marker": {
                          "colorbar": {
                            "outlinewidth": 0,
                            "ticks": ""
                          }
                        },
                        "type": "scatterternary"
                      }
                    ],
                    "surface": [
                      {
                        "colorbar": {
                          "outlinewidth": 0,
                          "ticks": ""
                        },
                        "colorscale": [
                          [
                            0,
                            "#0d0887"
                          ],
                          [
                            0.1111111111111111,
                            "#46039f"
                          ],
                          [
                            0.2222222222222222,
                            "#7201a8"
                          ],
                          [
                            0.3333333333333333,
                            "#9c179e"
                          ],
                          [
                            0.4444444444444444,
                            "#bd3786"
                          ],
                          [
                            0.5555555555555556,
                            "#d8576b"
                          ],
                          [
                            0.6666666666666666,
                            "#ed7953"
                          ],
                          [
                            0.7777777777777778,
                            "#fb9f3a"
                          ],
                          [
                            0.8888888888888888,
                            "#fdca26"
                          ],
                          [
                            1,
                            "#f0f921"
                          ]
                        ],
                        "type": "surface"
                      }
                    ],
                    "table": [
                      {
                        "cells": {
                          "fill": {
                            "color": "#EBF0F8"
                          },
                          "line": {
                            "color": "white"
                          }
                        },
                        "header": {
                          "fill": {
                            "color": "#C8D4E3"
                          },
                          "line": {
                            "color": "white"
                          }
                        },
                        "type": "table"
                      }
                    ]
                  },
                  "layout": {
                    "annotationdefaults": {
                      "arrowcolor": "#2a3f5f",
                      "arrowhead": 0,
                      "arrowwidth": 1
                    },
                    "autotypenumbers": "strict",
                    "coloraxis": {
                      "colorbar": {
                        "outlinewidth": 0,
                        "ticks": ""
                      }
                    },
                    "colorscale": {
                      "diverging": [
                        [
                          0,
                          "#8e0152"
                        ],
                        [
                          0.1,
                          "#c51b7d"
                        ],
                        [
                          0.2,
                          "#de77ae"
                        ],
                        [
                          0.3,
                          "#f1b6da"
                        ],
                        [
                          0.4,
                          "#fde0ef"
                        ],
                        [
                          0.5,
                          "#f7f7f7"
                        ],
                        [
                          0.6,
                          "#e6f5d0"
                        ],
                        [
                          0.7,
                          "#b8e186"
                        ],
                        [
                          0.8,
                          "#7fbc41"
                        ],
                        [
                          0.9,
                          "#4d9221"
                        ],
                        [
                          1,
                          "#276419"
                        ]
                      ],
                      "sequential": [
                        [
                          0,
                          "#0d0887"
                        ],
                        [
                          0.1111111111111111,
                          "#46039f"
                        ],
                        [
                          0.2222222222222222,
                          "#7201a8"
                        ],
                        [
                          0.3333333333333333,
                          "#9c179e"
                        ],
                        [
                          0.4444444444444444,
                          "#bd3786"
                        ],
                        [
                          0.5555555555555556,
                          "#d8576b"
                        ],
                        [
                          0.6666666666666666,
                          "#ed7953"
                        ],
                        [
                          0.7777777777777778,
                          "#fb9f3a"
                        ],
                        [
                          0.8888888888888888,
                          "#fdca26"
                        ],
                        [
                          1,
                          "#f0f921"
                        ]
                      ],
                      "sequentialminus": [
                        [
                          0,
                          "#0d0887"
                        ],
                        [
                          0.1111111111111111,
                          "#46039f"
                        ],
                        [
                          0.2222222222222222,
                          "#7201a8"
                        ],
                        [
                          0.3333333333333333,
                          "#9c179e"
                        ],
                        [
                          0.4444444444444444,
                          "#bd3786"
                        ],
                        [
                          0.5555555555555556,
                          "#d8576b"
                        ],
                        [
                          0.6666666666666666,
                          "#ed7953"
                        ],
                        [
                          0.7777777777777778,
                          "#fb9f3a"
                        ],
                        [
                          0.8888888888888888,
                          "#fdca26"
                        ],
                        [
                          1,
                          "#f0f921"
                        ]
                      ]
                    },
                    "colorway": [
                      "#636efa",
                      "#EF553B",
                      "#00cc96",
                      "#ab63fa",
                      "#FFA15A",
                      "#19d3f3",
                      "#FF6692",
                      "#B6E880",
                      "#FF97FF",
                      "#FECB52"
                    ],
                    "font": {
                      "color": "#2a3f5f"
                    },
                    "geo": {
                      "bgcolor": "white",
                      "lakecolor": "white",
                      "landcolor": "white",
                      "showlakes": true,
                      "showland": true,
                      "subunitcolor": "#C8D4E3"
                    },
                    "hoverlabel": {
                      "align": "left"
                    },
                    "hovermode": "closest",
                    "mapbox": {
                      "style": "light"
                    },
                    "paper_bgcolor": "white",
                    "plot_bgcolor": "white",
                    "polar": {
                      "angularaxis": {
                        "gridcolor": "#EBF0F8",
                        "linecolor": "#EBF0F8",
                        "ticks": ""
                      },
                      "bgcolor": "white",
                      "radialaxis": {
                        "gridcolor": "#EBF0F8",
                        "linecolor": "#EBF0F8",
                        "ticks": ""
                      }
                    },
                    "scene": {
                      "xaxis": {
                        "backgroundcolor": "white",
                        "gridcolor": "#DFE8F3",
                        "gridwidth": 2,
                        "linecolor": "#EBF0F8",
                        "showbackground": true,
                        "ticks": "",
                        "zerolinecolor": "#EBF0F8"
                      },
                      "yaxis": {
                        "backgroundcolor": "white",
                        "gridcolor": "#DFE8F3",
                        "gridwidth": 2,
                        "linecolor": "#EBF0F8",
                        "showbackground": true,
                        "ticks": "",
                        "zerolinecolor": "#EBF0F8"
                      },
                      "zaxis": {
                        "backgroundcolor": "white",
                        "gridcolor": "#DFE8F3",
                        "gridwidth": 2,
                        "linecolor": "#EBF0F8",
                        "showbackground": true,
                        "ticks": "",
                        "zerolinecolor": "#EBF0F8"
                      }
                    },
                    "shapedefaults": {
                      "line": {
                        "color": "#2a3f5f"
                      }
                    },
                    "ternary": {
                      "aaxis": {
                        "gridcolor": "#DFE8F3",
                        "linecolor": "#A2B1C6",
                        "ticks": ""
                      },
                      "baxis": {
                        "gridcolor": "#DFE8F3",
                        "linecolor": "#A2B1C6",
                        "ticks": ""
                      },
                      "bgcolor": "white",
                      "caxis": {
                        "gridcolor": "#DFE8F3",
                        "linecolor": "#A2B1C6",
                        "ticks": ""
                      }
                    },
                    "title": {
                      "x": 0.05
                    },
                    "xaxis": {
                      "automargin": true,
                      "gridcolor": "#EBF0F8",
                      "linecolor": "#EBF0F8",
                      "ticks": "",
                      "title": {
                        "standoff": 15
                      },
                      "zerolinecolor": "#EBF0F8",
                      "zerolinewidth": 2
                    },
                    "yaxis": {
                      "automargin": true,
                      "gridcolor": "#EBF0F8",
                      "linecolor": "#EBF0F8",
                      "ticks": "",
                      "title": {
                        "standoff": 15
                      },
                      "zerolinecolor": "#EBF0F8",
                      "zerolinewidth": 2
                    }
                  }
                },
                "title": {
                  "font": {
                    "color": "Black",
                    "size": 22
                  },
                  "text": "<b>Hierarchical Clustering",
                  "x": 0.5,
                  "xanchor": "center",
                  "yanchor": "top"
                },
                "width": 1000,
                "xaxis": {
                  "mirror": "allticks",
                  "rangemode": "tozero",
                  "showgrid": false,
                  "showline": true,
                  "showticklabels": true,
                  "ticks": "outside",
                  "type": "linear",
                  "zeroline": false
                },
                "yaxis": {
                  "mirror": "allticks",
                  "range": [
                    -150,
                    0
                  ],
                  "rangemode": "tozero",
                  "showgrid": false,
                  "showline": true,
                  "showticklabels": true,
                  "tickmode": "array",
                  "ticks": "outside",
                  "ticktext": [
                    "12_goals_season_goal",
                    "6_warriors_warden_finals",
                    "0_wind_mph_wain",
                    "10_flag_wears_wick",
                    "4_west_food_trans",
                    "11_wet_wets_banks",
                    "7_wormer_president_presiden...",
                    "8_coach_sign_striker",
                    "14_wee_woody_wings",
                    "13_wan_wave_heat",
                    "9_shot_police_church",
                    "2_pips_total_engineer",
                    "3_flooding_floods_toll",
                    "5_plane_landing_crashes",
                    "1_troops_army_military"
                  ],
                  "tickvals": [
                    -5,
                    -15,
                    -25,
                    -35,
                    -45,
                    -55,
                    -65,
                    -75,
                    -85,
                    -95,
                    -105,
                    -115,
                    -125,
                    -135,
                    -145
                  ],
                  "type": "linear",
                  "zeroline": false
                }
              }
            }
          },
          "metadata": {},
          "output_type": "display_data"
        }
      ],
      "source": [
        "topic_model.visualize_hierarchy()"
      ]
    }
  ],
  "metadata": {
    "colab": {
      "provenance": []
    },
    "kernelspec": {
      "display_name": "cluwords_emb",
      "language": "python",
      "name": "python3"
    },
    "language_info": {
      "codemirror_mode": {
        "name": "ipython",
        "version": 3
      },
      "file_extension": ".py",
      "mimetype": "text/x-python",
      "name": "python",
      "nbconvert_exporter": "python",
      "pygments_lexer": "ipython3",
      "version": "3.8.10"
    },
    "vscode": {
      "interpreter": {
        "hash": "dd5b5d06706bb19d070e38d4ebad3eab8249ed08b8bc628803b1920b913342d6"
      }
    },
    "widgets": {
      "application/vnd.jupyter.widget-state+json": {
        "13cd4a86aa68484ca51489a87837322b": {
          "model_module": "@jupyter-widgets/base",
          "model_module_version": "1.2.0",
          "model_name": "LayoutModel",
          "state": {
            "_model_module": "@jupyter-widgets/base",
            "_model_module_version": "1.2.0",
            "_model_name": "LayoutModel",
            "_view_count": null,
            "_view_module": "@jupyter-widgets/base",
            "_view_module_version": "1.2.0",
            "_view_name": "LayoutView",
            "align_content": null,
            "align_items": null,
            "align_self": null,
            "border": null,
            "bottom": null,
            "display": null,
            "flex": null,
            "flex_flow": null,
            "grid_area": null,
            "grid_auto_columns": null,
            "grid_auto_flow": null,
            "grid_auto_rows": null,
            "grid_column": null,
            "grid_gap": null,
            "grid_row": null,
            "grid_template_areas": null,
            "grid_template_columns": null,
            "grid_template_rows": null,
            "height": null,
            "justify_content": null,
            "justify_items": null,
            "left": null,
            "margin": null,
            "max_height": null,
            "max_width": null,
            "min_height": null,
            "min_width": null,
            "object_fit": null,
            "object_position": null,
            "order": null,
            "overflow": null,
            "overflow_x": null,
            "overflow_y": null,
            "padding": null,
            "right": null,
            "top": null,
            "visibility": null,
            "width": null
          }
        },
        "27e8beea812f46289947d89cff67b705": {
          "model_module": "@jupyter-widgets/base",
          "model_module_version": "1.2.0",
          "model_name": "LayoutModel",
          "state": {
            "_model_module": "@jupyter-widgets/base",
            "_model_module_version": "1.2.0",
            "_model_name": "LayoutModel",
            "_view_count": null,
            "_view_module": "@jupyter-widgets/base",
            "_view_module_version": "1.2.0",
            "_view_name": "LayoutView",
            "align_content": null,
            "align_items": null,
            "align_self": null,
            "border": null,
            "bottom": null,
            "display": null,
            "flex": null,
            "flex_flow": null,
            "grid_area": null,
            "grid_auto_columns": null,
            "grid_auto_flow": null,
            "grid_auto_rows": null,
            "grid_column": null,
            "grid_gap": null,
            "grid_row": null,
            "grid_template_areas": null,
            "grid_template_columns": null,
            "grid_template_rows": null,
            "height": null,
            "justify_content": null,
            "justify_items": null,
            "left": null,
            "margin": null,
            "max_height": null,
            "max_width": null,
            "min_height": null,
            "min_width": null,
            "object_fit": null,
            "object_position": null,
            "order": null,
            "overflow": null,
            "overflow_x": null,
            "overflow_y": null,
            "padding": null,
            "right": null,
            "top": null,
            "visibility": null,
            "width": null
          }
        },
        "3bb5c61c0b484dab9174e79c8e89755b": {
          "model_module": "@jupyter-widgets/base",
          "model_module_version": "1.2.0",
          "model_name": "LayoutModel",
          "state": {
            "_model_module": "@jupyter-widgets/base",
            "_model_module_version": "1.2.0",
            "_model_name": "LayoutModel",
            "_view_count": null,
            "_view_module": "@jupyter-widgets/base",
            "_view_module_version": "1.2.0",
            "_view_name": "LayoutView",
            "align_content": null,
            "align_items": null,
            "align_self": null,
            "border": null,
            "bottom": null,
            "display": null,
            "flex": null,
            "flex_flow": null,
            "grid_area": null,
            "grid_auto_columns": null,
            "grid_auto_flow": null,
            "grid_auto_rows": null,
            "grid_column": null,
            "grid_gap": null,
            "grid_row": null,
            "grid_template_areas": null,
            "grid_template_columns": null,
            "grid_template_rows": null,
            "height": null,
            "justify_content": null,
            "justify_items": null,
            "left": null,
            "margin": null,
            "max_height": null,
            "max_width": null,
            "min_height": null,
            "min_width": null,
            "object_fit": null,
            "object_position": null,
            "order": null,
            "overflow": null,
            "overflow_x": null,
            "overflow_y": null,
            "padding": null,
            "right": null,
            "top": null,
            "visibility": null,
            "width": null
          }
        },
        "6e0ff03cc7094f5d95e30d1feb34b4e7": {
          "model_module": "@jupyter-widgets/controls",
          "model_module_version": "1.5.0",
          "model_name": "HTMLModel",
          "state": {
            "_dom_classes": [],
            "_model_module": "@jupyter-widgets/controls",
            "_model_module_version": "1.5.0",
            "_model_name": "HTMLModel",
            "_view_count": null,
            "_view_module": "@jupyter-widgets/controls",
            "_view_module_version": "1.5.0",
            "_view_name": "HTMLView",
            "description": "",
            "description_tooltip": null,
            "layout": "IPY_MODEL_3bb5c61c0b484dab9174e79c8e89755b",
            "placeholder": "​",
            "style": "IPY_MODEL_d29bb854915a457083d2857e9911482d",
            "value": " 83.4M/83.4M [00:19&lt;00:00, 4.38MB/s]"
          }
        },
        "84d7aa8d8d98435f876b3fd47c435acb": {
          "model_module": "@jupyter-widgets/controls",
          "model_module_version": "1.5.0",
          "model_name": "ProgressStyleModel",
          "state": {
            "_model_module": "@jupyter-widgets/controls",
            "_model_module_version": "1.5.0",
            "_model_name": "ProgressStyleModel",
            "_view_count": null,
            "_view_module": "@jupyter-widgets/base",
            "_view_module_version": "1.2.0",
            "_view_name": "StyleView",
            "bar_color": null,
            "description_width": "initial"
          }
        },
        "cbf6e36603b947e0a995d24cc160e337": {
          "model_module": "@jupyter-widgets/controls",
          "model_module_version": "1.5.0",
          "model_name": "FloatProgressModel",
          "state": {
            "_dom_classes": [],
            "_model_module": "@jupyter-widgets/controls",
            "_model_module_version": "1.5.0",
            "_model_name": "FloatProgressModel",
            "_view_count": null,
            "_view_module": "@jupyter-widgets/controls",
            "_view_module_version": "1.5.0",
            "_view_name": "ProgressView",
            "bar_style": "success",
            "description": "100%",
            "description_tooltip": null,
            "layout": "IPY_MODEL_27e8beea812f46289947d89cff67b705",
            "max": 83426730,
            "min": 0,
            "orientation": "horizontal",
            "style": "IPY_MODEL_84d7aa8d8d98435f876b3fd47c435acb",
            "value": 83426730
          }
        },
        "d29bb854915a457083d2857e9911482d": {
          "model_module": "@jupyter-widgets/controls",
          "model_module_version": "1.5.0",
          "model_name": "DescriptionStyleModel",
          "state": {
            "_model_module": "@jupyter-widgets/controls",
            "_model_module_version": "1.5.0",
            "_model_name": "DescriptionStyleModel",
            "_view_count": null,
            "_view_module": "@jupyter-widgets/base",
            "_view_module_version": "1.2.0",
            "_view_name": "StyleView",
            "description_width": ""
          }
        },
        "ea6e7a403f884213a50ad5f0bf20da6c": {
          "model_module": "@jupyter-widgets/controls",
          "model_module_version": "1.5.0",
          "model_name": "HBoxModel",
          "state": {
            "_dom_classes": [],
            "_model_module": "@jupyter-widgets/controls",
            "_model_module_version": "1.5.0",
            "_model_name": "HBoxModel",
            "_view_count": null,
            "_view_module": "@jupyter-widgets/controls",
            "_view_module_version": "1.5.0",
            "_view_name": "HBoxView",
            "box_style": "",
            "children": [
              "IPY_MODEL_cbf6e36603b947e0a995d24cc160e337",
              "IPY_MODEL_6e0ff03cc7094f5d95e30d1feb34b4e7"
            ],
            "layout": "IPY_MODEL_13cd4a86aa68484ca51489a87837322b"
          }
        }
      }
    }
  },
  "nbformat": 4,
  "nbformat_minor": 0
}
